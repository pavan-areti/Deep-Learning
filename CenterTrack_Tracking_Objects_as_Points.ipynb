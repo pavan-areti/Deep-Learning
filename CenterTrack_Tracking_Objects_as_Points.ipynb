{
  "nbformat": 4,
  "nbformat_minor": 0,
  "metadata": {
    "colab": {
      "name": "Copy of CenterTrack-Tracking-Objects-as-Points.ipynb",
      "provenance": [],
      "collapsed_sections": [],
      "include_colab_link": true
    },
    "kernelspec": {
      "name": "python3",
      "display_name": "Python 3"
    },
    "accelerator": "GPU"
  },
  "cells": [
    {
      "cell_type": "markdown",
      "metadata": {
        "id": "view-in-github",
        "colab_type": "text"
      },
      "source": [
        "<a href=\"https://colab.research.google.com/github/pavan-areti/Deep-Learning/blob/main/CenterTrack_Tracking_Objects_as_Points.ipynb\" target=\"_parent\"><img src=\"https://colab.research.google.com/assets/colab-badge.svg\" alt=\"Open In Colab\"/></a>"
      ]
    },
    {
      "cell_type": "markdown",
      "metadata": {
        "id": "HPw8WGdCfyk8"
      },
      "source": [
        "# CenterTrack - Tracking Objects as Points\n",
        "Simultaneous object detection and tracking using center points:\n",
        "<img src=\"https://github.com/xingyizhou/CenterTrack/raw/master/readme/fig2.png\">\n",
        "\n",
        "**Original code :** [CenterTrack](https://github.com/xingyizhou/CenterTrack) by [Xingyi Zhou](https://github.com/xingyizhou)\n",
        "\n",
        "**[Tracking Objects as Points](http://arxiv.org/abs/2004.01177)**,\n",
        "\n",
        "Xingyi Zhou, Vladlen Koltun, Philipp Krähenbühl,\n",
        "\n",
        "*arXiv technical report [(arXiv 2004.01177)](http://arxiv.org/abs/2004.01177)*\n",
        "\n",
        "**Citation**\n",
        "```\n",
        "@article{zhou2020tracking,\n",
        "  title={Tracking Objects as Points},\n",
        "  author={Zhou, Xingyi and Koltun, Vladlen and Kr{\\\"a}henb{\\\"u}hl, Philipp},\n",
        "  journal={ECCV},\n",
        "  year={2020}\n",
        "}\n",
        "```"
      ]
    },
    {
      "cell_type": "code",
      "metadata": {
        "id": "zMWkS8jt0Cjf",
        "colab": {
          "base_uri": "https://localhost:8080/"
        },
        "outputId": "01a02224-78d6-4137-cf6a-a9eae2bbd1b0"
      },
      "source": [
        "! nvidia-smi\n",
        "!/usr/local/cuda/bin/nvcc --version"
      ],
      "execution_count": 1,
      "outputs": [
        {
          "output_type": "stream",
          "name": "stdout",
          "text": [
            "Thu Jun  9 06:38:07 2022       \n",
            "+-----------------------------------------------------------------------------+\n",
            "| NVIDIA-SMI 460.32.03    Driver Version: 460.32.03    CUDA Version: 11.2     |\n",
            "|-------------------------------+----------------------+----------------------+\n",
            "| GPU  Name        Persistence-M| Bus-Id        Disp.A | Volatile Uncorr. ECC |\n",
            "| Fan  Temp  Perf  Pwr:Usage/Cap|         Memory-Usage | GPU-Util  Compute M. |\n",
            "|                               |                      |               MIG M. |\n",
            "|===============================+======================+======================|\n",
            "|   0  Tesla T4            Off  | 00000000:00:04.0 Off |                    0 |\n",
            "| N/A   35C    P8     9W /  70W |      0MiB / 15109MiB |      0%      Default |\n",
            "|                               |                      |                  N/A |\n",
            "+-------------------------------+----------------------+----------------------+\n",
            "                                                                               \n",
            "+-----------------------------------------------------------------------------+\n",
            "| Processes:                                                                  |\n",
            "|  GPU   GI   CI        PID   Type   Process name                  GPU Memory |\n",
            "|        ID   ID                                                   Usage      |\n",
            "|=============================================================================|\n",
            "|  No running processes found                                                 |\n",
            "+-----------------------------------------------------------------------------+\n",
            "nvcc: NVIDIA (R) Cuda compiler driver\n",
            "Copyright (c) 2005-2020 NVIDIA Corporation\n",
            "Built on Mon_Oct_12_20:09:46_PDT_2020\n",
            "Cuda compilation tools, release 11.1, V11.1.105\n",
            "Build cuda_11.1.TC455_06.29190527_0\n"
          ]
        }
      ]
    },
    {
      "cell_type": "markdown",
      "metadata": {
        "id": "pk7mjfbqYvdS"
      },
      "source": [
        "## Installation\n",
        "1. Install PyTorch:"
      ]
    },
    {
      "cell_type": "code",
      "metadata": {
        "id": "1CJ6c5Y4psPl",
        "colab": {
          "base_uri": "https://localhost:8080/"
        },
        "outputId": "2206fdfe-9b6d-48f2-fa64-361ffe74e8fa"
      },
      "source": [
        "import torch\n",
        "print(torch.__version__)"
      ],
      "execution_count": 2,
      "outputs": [
        {
          "output_type": "stream",
          "name": "stdout",
          "text": [
            "1.4.0\n"
          ]
        }
      ]
    },
    {
      "cell_type": "code",
      "metadata": {
        "id": "ruJju8S9r7o8",
        "colab": {
          "base_uri": "https://localhost:8080/"
        },
        "outputId": "a3712c2b-edab-4e39-a513-87f529034a4c"
      },
      "source": [
        "! pip install torch==1.4.0 torchvision==0.5.0"
      ],
      "execution_count": 3,
      "outputs": [
        {
          "output_type": "stream",
          "name": "stdout",
          "text": [
            "Looking in indexes: https://pypi.org/simple, https://us-python.pkg.dev/colab-wheels/public/simple/\n",
            "Requirement already satisfied: torch==1.4.0 in /usr/local/lib/python3.7/dist-packages (1.4.0)\n",
            "Requirement already satisfied: torchvision==0.5.0 in /usr/local/lib/python3.7/dist-packages (0.5.0)\n",
            "Requirement already satisfied: pillow>=4.1.1 in /usr/local/lib/python3.7/dist-packages (from torchvision==0.5.0) (7.1.2)\n",
            "Requirement already satisfied: numpy in /usr/local/lib/python3.7/dist-packages (from torchvision==0.5.0) (1.21.6)\n",
            "Requirement already satisfied: six in /usr/local/lib/python3.7/dist-packages (from torchvision==0.5.0) (1.15.0)\n"
          ]
        }
      ]
    },
    {
      "cell_type": "markdown",
      "metadata": {
        "id": "gjqXYyuhIJH7"
      },
      "source": [
        "2. Install [COCOAPI](https://github.com/cocodataset/cocoapi):"
      ]
    },
    {
      "cell_type": "code",
      "metadata": {
        "id": "wroZnDoPIOcp",
        "colab": {
          "base_uri": "https://localhost:8080/"
        },
        "outputId": "5ecd59e3-824e-4954-95b1-02a15e9b9233"
      },
      "source": [
        "! pip install cython; pip install -U 'git+https://github.com/cocodataset/cocoapi.git#subdirectory=PythonAPI'"
      ],
      "execution_count": 4,
      "outputs": [
        {
          "output_type": "stream",
          "name": "stdout",
          "text": [
            "Looking in indexes: https://pypi.org/simple, https://us-python.pkg.dev/colab-wheels/public/simple/\n",
            "Requirement already satisfied: cython in /usr/local/lib/python3.7/dist-packages (0.29.30)\n",
            "Looking in indexes: https://pypi.org/simple, https://us-python.pkg.dev/colab-wheels/public/simple/\n",
            "Collecting git+https://github.com/cocodataset/cocoapi.git#subdirectory=PythonAPI\n",
            "  Cloning https://github.com/cocodataset/cocoapi.git to /tmp/pip-req-build-mnsfuzq8\n",
            "  Running command git clone -q https://github.com/cocodataset/cocoapi.git /tmp/pip-req-build-mnsfuzq8\n",
            "Requirement already satisfied: setuptools>=18.0 in /usr/local/lib/python3.7/dist-packages (from pycocotools==2.0) (57.4.0)\n",
            "Requirement already satisfied: cython>=0.27.3 in /usr/local/lib/python3.7/dist-packages (from pycocotools==2.0) (0.29.30)\n",
            "Requirement already satisfied: matplotlib>=2.1.0 in /usr/local/lib/python3.7/dist-packages (from pycocotools==2.0) (3.2.2)\n",
            "Requirement already satisfied: kiwisolver>=1.0.1 in /usr/local/lib/python3.7/dist-packages (from matplotlib>=2.1.0->pycocotools==2.0) (1.4.2)\n",
            "Requirement already satisfied: python-dateutil>=2.1 in /usr/local/lib/python3.7/dist-packages (from matplotlib>=2.1.0->pycocotools==2.0) (2.8.2)\n",
            "Requirement already satisfied: numpy>=1.11 in /usr/local/lib/python3.7/dist-packages (from matplotlib>=2.1.0->pycocotools==2.0) (1.21.6)\n",
            "Requirement already satisfied: pyparsing!=2.0.4,!=2.1.2,!=2.1.6,>=2.0.1 in /usr/local/lib/python3.7/dist-packages (from matplotlib>=2.1.0->pycocotools==2.0) (3.0.9)\n",
            "Requirement already satisfied: cycler>=0.10 in /usr/local/lib/python3.7/dist-packages (from matplotlib>=2.1.0->pycocotools==2.0) (0.11.0)\n",
            "Requirement already satisfied: typing-extensions in /usr/local/lib/python3.7/dist-packages (from kiwisolver>=1.0.1->matplotlib>=2.1.0->pycocotools==2.0) (4.2.0)\n",
            "Requirement already satisfied: six>=1.5 in /usr/local/lib/python3.7/dist-packages (from python-dateutil>=2.1->matplotlib>=2.1.0->pycocotools==2.0) (1.15.0)\n",
            "Building wheels for collected packages: pycocotools\n",
            "  Building wheel for pycocotools (setup.py) ... \u001b[?25l\u001b[?25hdone\n",
            "  Created wheel for pycocotools: filename=pycocotools-2.0-cp37-cp37m-linux_x86_64.whl size=265174 sha256=757709ee30322d9e7eb4963476415255abe73eefaec8cb43d0d2346302340ed2\n",
            "  Stored in directory: /tmp/pip-ephem-wheel-cache-uhy6wenv/wheels/e2/6b/1d/344ac773c7495ea0b85eb228bc66daec7400a143a92d36b7b1\n",
            "Successfully built pycocotools\n",
            "Installing collected packages: pycocotools\n",
            "  Attempting uninstall: pycocotools\n",
            "    Found existing installation: pycocotools 2.0.4\n",
            "    Uninstalling pycocotools-2.0.4:\n",
            "      Successfully uninstalled pycocotools-2.0.4\n",
            "\u001b[31mERROR: pip's dependency resolver does not currently take into account all the packages that are installed. This behaviour is the source of the following dependency conflicts.\n",
            "nuscenes-devkit 1.1.9 requires pycocotools>=2.0.1, but you have pycocotools 2.0 which is incompatible.\u001b[0m\n",
            "Successfully installed pycocotools-2.0\n"
          ]
        }
      ]
    },
    {
      "cell_type": "markdown",
      "metadata": {
        "id": "4Ucy9RTJIZ0V"
      },
      "source": [
        "3. Clone this repo:"
      ]
    },
    {
      "cell_type": "code",
      "metadata": {
        "id": "NF_X5OgX2Qvz",
        "colab": {
          "base_uri": "https://localhost:8080/"
        },
        "outputId": "511a1210-c7db-44db-b734-ca936c303e8d"
      },
      "source": [
        "CenterTrack_ROOT=\"CenterTrack\"\n",
        "! git clone --recursive https://github.com/xingyizhou/CenterTrack $CenterTrack_ROOT\n",
        "%cd CenterTrack"
      ],
      "execution_count": 5,
      "outputs": [
        {
          "output_type": "stream",
          "name": "stdout",
          "text": [
            "fatal: destination path 'CenterTrack' already exists and is not an empty directory.\n",
            "/content/CenterTrack\n"
          ]
        }
      ]
    },
    {
      "cell_type": "markdown",
      "metadata": {
        "id": "UvnAkG0jJgFZ"
      },
      "source": [
        "You can manually install the [submodules](https://github.com/xingyizhou/CenterTrack/blob/master/.gitmodules) if you forget --recursive."
      ]
    },
    {
      "cell_type": "markdown",
      "metadata": {
        "id": "XQJPHZVQIib3"
      },
      "source": [
        "4. Install the requirements"
      ]
    },
    {
      "cell_type": "code",
      "metadata": {
        "id": "eFIuWq-x2VrZ",
        "colab": {
          "base_uri": "https://localhost:8080/"
        },
        "outputId": "790b3695-42b0-454a-f4f9-1a9e49d94930"
      },
      "source": [
        "! pip install -r requirements.txt\n",
        "! apt-get install libx264-dev"
      ],
      "execution_count": 6,
      "outputs": [
        {
          "output_type": "stream",
          "name": "stdout",
          "text": [
            "Looking in indexes: https://pypi.org/simple, https://us-python.pkg.dev/colab-wheels/public/simple/\n",
            "Requirement already satisfied: opencv-python in /usr/local/lib/python3.7/dist-packages (from -r requirements.txt (line 1)) (4.1.2.30)\n",
            "Requirement already satisfied: Cython in /usr/local/lib/python3.7/dist-packages (from -r requirements.txt (line 2)) (0.29.30)\n",
            "Requirement already satisfied: numba in /usr/local/lib/python3.7/dist-packages (from -r requirements.txt (line 3)) (0.51.2)\n",
            "Requirement already satisfied: progress in /usr/local/lib/python3.7/dist-packages (from -r requirements.txt (line 4)) (1.6)\n",
            "Requirement already satisfied: matplotlib in /usr/local/lib/python3.7/dist-packages (from -r requirements.txt (line 5)) (3.2.2)\n",
            "Requirement already satisfied: easydict in /usr/local/lib/python3.7/dist-packages (from -r requirements.txt (line 6)) (1.9)\n",
            "Requirement already satisfied: scipy in /usr/local/lib/python3.7/dist-packages (from -r requirements.txt (line 7)) (1.4.1)\n",
            "Requirement already satisfied: pyquaternion in /usr/local/lib/python3.7/dist-packages (from -r requirements.txt (line 8)) (0.9.9)\n",
            "Requirement already satisfied: nuscenes-devkit in /usr/local/lib/python3.7/dist-packages (from -r requirements.txt (line 9)) (1.1.9)\n",
            "Requirement already satisfied: pyyaml in /usr/local/lib/python3.7/dist-packages (from -r requirements.txt (line 10)) (3.13)\n",
            "Requirement already satisfied: motmetrics in /usr/local/lib/python3.7/dist-packages (from -r requirements.txt (line 11)) (1.2.5)\n",
            "Requirement already satisfied: scikit-learn==0.22.2 in /usr/local/lib/python3.7/dist-packages (from -r requirements.txt (line 12)) (0.22.2)\n",
            "Requirement already satisfied: joblib>=0.11 in /usr/local/lib/python3.7/dist-packages (from scikit-learn==0.22.2->-r requirements.txt (line 12)) (1.1.0)\n",
            "Requirement already satisfied: numpy>=1.11.0 in /usr/local/lib/python3.7/dist-packages (from scikit-learn==0.22.2->-r requirements.txt (line 12)) (1.21.6)\n",
            "Requirement already satisfied: llvmlite<0.35,>=0.34.0.dev0 in /usr/local/lib/python3.7/dist-packages (from numba->-r requirements.txt (line 3)) (0.34.0)\n",
            "Requirement already satisfied: setuptools in /usr/local/lib/python3.7/dist-packages (from numba->-r requirements.txt (line 3)) (57.4.0)\n",
            "Requirement already satisfied: cycler>=0.10 in /usr/local/lib/python3.7/dist-packages (from matplotlib->-r requirements.txt (line 5)) (0.11.0)\n",
            "Requirement already satisfied: python-dateutil>=2.1 in /usr/local/lib/python3.7/dist-packages (from matplotlib->-r requirements.txt (line 5)) (2.8.2)\n",
            "Requirement already satisfied: pyparsing!=2.0.4,!=2.1.2,!=2.1.6,>=2.0.1 in /usr/local/lib/python3.7/dist-packages (from matplotlib->-r requirements.txt (line 5)) (3.0.9)\n",
            "Requirement already satisfied: kiwisolver>=1.0.1 in /usr/local/lib/python3.7/dist-packages (from matplotlib->-r requirements.txt (line 5)) (1.4.2)\n",
            "Requirement already satisfied: typing-extensions in /usr/local/lib/python3.7/dist-packages (from kiwisolver>=1.0.1->matplotlib->-r requirements.txt (line 5)) (4.2.0)\n",
            "Requirement already satisfied: six>=1.5 in /usr/local/lib/python3.7/dist-packages (from python-dateutil>=2.1->matplotlib->-r requirements.txt (line 5)) (1.15.0)\n",
            "Requirement already satisfied: Pillow>6.2.1 in /usr/local/lib/python3.7/dist-packages (from nuscenes-devkit->-r requirements.txt (line 9)) (7.1.2)\n",
            "Requirement already satisfied: tqdm in /usr/local/lib/python3.7/dist-packages (from nuscenes-devkit->-r requirements.txt (line 9)) (4.64.0)\n",
            "Requirement already satisfied: cachetools in /usr/local/lib/python3.7/dist-packages (from nuscenes-devkit->-r requirements.txt (line 9)) (4.2.4)\n",
            "Requirement already satisfied: descartes in /usr/local/lib/python3.7/dist-packages (from nuscenes-devkit->-r requirements.txt (line 9)) (1.1.0)\n",
            "Requirement already satisfied: fire in /usr/local/lib/python3.7/dist-packages (from nuscenes-devkit->-r requirements.txt (line 9)) (0.4.0)\n",
            "Requirement already satisfied: Shapely in /usr/local/lib/python3.7/dist-packages (from nuscenes-devkit->-r requirements.txt (line 9)) (1.8.2)\n",
            "Requirement already satisfied: jupyter in /usr/local/lib/python3.7/dist-packages (from nuscenes-devkit->-r requirements.txt (line 9)) (1.0.0)\n",
            "Collecting pycocotools>=2.0.1\n",
            "  Using cached pycocotools-2.0.4-cp37-cp37m-linux_x86_64.whl\n",
            "Requirement already satisfied: pandas>=0.23.1 in /usr/local/lib/python3.7/dist-packages (from motmetrics->-r requirements.txt (line 11)) (1.3.5)\n",
            "Requirement already satisfied: xmltodict>=0.12.0 in /usr/local/lib/python3.7/dist-packages (from motmetrics->-r requirements.txt (line 11)) (0.13.0)\n",
            "Requirement already satisfied: pytz>=2017.3 in /usr/local/lib/python3.7/dist-packages (from pandas>=0.23.1->motmetrics->-r requirements.txt (line 11)) (2022.1)\n",
            "Requirement already satisfied: termcolor in /usr/local/lib/python3.7/dist-packages (from fire->nuscenes-devkit->-r requirements.txt (line 9)) (1.1.0)\n",
            "Requirement already satisfied: ipywidgets in /usr/local/lib/python3.7/dist-packages (from jupyter->nuscenes-devkit->-r requirements.txt (line 9)) (7.7.0)\n",
            "Requirement already satisfied: ipykernel in /usr/local/lib/python3.7/dist-packages (from jupyter->nuscenes-devkit->-r requirements.txt (line 9)) (4.10.1)\n",
            "Requirement already satisfied: notebook in /usr/local/lib/python3.7/dist-packages (from jupyter->nuscenes-devkit->-r requirements.txt (line 9)) (5.3.1)\n",
            "Requirement already satisfied: jupyter-console in /usr/local/lib/python3.7/dist-packages (from jupyter->nuscenes-devkit->-r requirements.txt (line 9)) (5.2.0)\n",
            "Requirement already satisfied: nbconvert in /usr/local/lib/python3.7/dist-packages (from jupyter->nuscenes-devkit->-r requirements.txt (line 9)) (5.6.1)\n",
            "Requirement already satisfied: qtconsole in /usr/local/lib/python3.7/dist-packages (from jupyter->nuscenes-devkit->-r requirements.txt (line 9)) (5.3.0)\n",
            "Requirement already satisfied: traitlets>=4.1.0 in /usr/local/lib/python3.7/dist-packages (from ipykernel->jupyter->nuscenes-devkit->-r requirements.txt (line 9)) (5.1.1)\n",
            "Requirement already satisfied: jupyter-client in /usr/local/lib/python3.7/dist-packages (from ipykernel->jupyter->nuscenes-devkit->-r requirements.txt (line 9)) (5.3.5)\n",
            "Requirement already satisfied: ipython>=4.0.0 in /usr/local/lib/python3.7/dist-packages (from ipykernel->jupyter->nuscenes-devkit->-r requirements.txt (line 9)) (5.5.0)\n",
            "Requirement already satisfied: tornado>=4.0 in /usr/local/lib/python3.7/dist-packages (from ipykernel->jupyter->nuscenes-devkit->-r requirements.txt (line 9)) (5.1.1)\n",
            "Requirement already satisfied: pygments in /usr/local/lib/python3.7/dist-packages (from ipython>=4.0.0->ipykernel->jupyter->nuscenes-devkit->-r requirements.txt (line 9)) (2.6.1)\n",
            "Requirement already satisfied: decorator in /usr/local/lib/python3.7/dist-packages (from ipython>=4.0.0->ipykernel->jupyter->nuscenes-devkit->-r requirements.txt (line 9)) (4.4.2)\n",
            "Requirement already satisfied: pexpect in /usr/local/lib/python3.7/dist-packages (from ipython>=4.0.0->ipykernel->jupyter->nuscenes-devkit->-r requirements.txt (line 9)) (4.8.0)\n",
            "Requirement already satisfied: pickleshare in /usr/local/lib/python3.7/dist-packages (from ipython>=4.0.0->ipykernel->jupyter->nuscenes-devkit->-r requirements.txt (line 9)) (0.7.5)\n",
            "Requirement already satisfied: prompt-toolkit<2.0.0,>=1.0.4 in /usr/local/lib/python3.7/dist-packages (from ipython>=4.0.0->ipykernel->jupyter->nuscenes-devkit->-r requirements.txt (line 9)) (1.0.18)\n",
            "Requirement already satisfied: simplegeneric>0.8 in /usr/local/lib/python3.7/dist-packages (from ipython>=4.0.0->ipykernel->jupyter->nuscenes-devkit->-r requirements.txt (line 9)) (0.8.1)\n",
            "Requirement already satisfied: wcwidth in /usr/local/lib/python3.7/dist-packages (from prompt-toolkit<2.0.0,>=1.0.4->ipython>=4.0.0->ipykernel->jupyter->nuscenes-devkit->-r requirements.txt (line 9)) (0.2.5)\n",
            "Requirement already satisfied: widgetsnbextension~=3.6.0 in /usr/local/lib/python3.7/dist-packages (from ipywidgets->jupyter->nuscenes-devkit->-r requirements.txt (line 9)) (3.6.0)\n",
            "Requirement already satisfied: ipython-genutils~=0.2.0 in /usr/local/lib/python3.7/dist-packages (from ipywidgets->jupyter->nuscenes-devkit->-r requirements.txt (line 9)) (0.2.0)\n",
            "Requirement already satisfied: nbformat>=4.2.0 in /usr/local/lib/python3.7/dist-packages (from ipywidgets->jupyter->nuscenes-devkit->-r requirements.txt (line 9)) (5.4.0)\n",
            "Requirement already satisfied: jupyterlab-widgets>=1.0.0 in /usr/local/lib/python3.7/dist-packages (from ipywidgets->jupyter->nuscenes-devkit->-r requirements.txt (line 9)) (1.1.0)\n",
            "Requirement already satisfied: jupyter-core in /usr/local/lib/python3.7/dist-packages (from nbformat>=4.2.0->ipywidgets->jupyter->nuscenes-devkit->-r requirements.txt (line 9)) (4.10.0)\n",
            "Requirement already satisfied: jsonschema>=2.6 in /usr/local/lib/python3.7/dist-packages (from nbformat>=4.2.0->ipywidgets->jupyter->nuscenes-devkit->-r requirements.txt (line 9)) (4.3.3)\n",
            "Requirement already satisfied: fastjsonschema in /usr/local/lib/python3.7/dist-packages (from nbformat>=4.2.0->ipywidgets->jupyter->nuscenes-devkit->-r requirements.txt (line 9)) (2.15.3)\n",
            "Requirement already satisfied: pyrsistent!=0.17.0,!=0.17.1,!=0.17.2,>=0.14.0 in /usr/local/lib/python3.7/dist-packages (from jsonschema>=2.6->nbformat>=4.2.0->ipywidgets->jupyter->nuscenes-devkit->-r requirements.txt (line 9)) (0.18.1)\n",
            "Requirement already satisfied: attrs>=17.4.0 in /usr/local/lib/python3.7/dist-packages (from jsonschema>=2.6->nbformat>=4.2.0->ipywidgets->jupyter->nuscenes-devkit->-r requirements.txt (line 9)) (21.4.0)\n",
            "Requirement already satisfied: importlib-resources>=1.4.0 in /usr/local/lib/python3.7/dist-packages (from jsonschema>=2.6->nbformat>=4.2.0->ipywidgets->jupyter->nuscenes-devkit->-r requirements.txt (line 9)) (5.7.1)\n",
            "Requirement already satisfied: importlib-metadata in /usr/local/lib/python3.7/dist-packages (from jsonschema>=2.6->nbformat>=4.2.0->ipywidgets->jupyter->nuscenes-devkit->-r requirements.txt (line 9)) (4.11.4)\n",
            "Requirement already satisfied: zipp>=3.1.0 in /usr/local/lib/python3.7/dist-packages (from importlib-resources>=1.4.0->jsonschema>=2.6->nbformat>=4.2.0->ipywidgets->jupyter->nuscenes-devkit->-r requirements.txt (line 9)) (3.8.0)\n",
            "Requirement already satisfied: Send2Trash in /usr/local/lib/python3.7/dist-packages (from notebook->jupyter->nuscenes-devkit->-r requirements.txt (line 9)) (1.8.0)\n",
            "Requirement already satisfied: jinja2 in /usr/local/lib/python3.7/dist-packages (from notebook->jupyter->nuscenes-devkit->-r requirements.txt (line 9)) (2.11.3)\n",
            "Requirement already satisfied: terminado>=0.8.1 in /usr/local/lib/python3.7/dist-packages (from notebook->jupyter->nuscenes-devkit->-r requirements.txt (line 9)) (0.13.3)\n",
            "Requirement already satisfied: pyzmq>=13 in /usr/local/lib/python3.7/dist-packages (from jupyter-client->ipykernel->jupyter->nuscenes-devkit->-r requirements.txt (line 9)) (23.0.0)\n",
            "Requirement already satisfied: ptyprocess in /usr/local/lib/python3.7/dist-packages (from terminado>=0.8.1->notebook->jupyter->nuscenes-devkit->-r requirements.txt (line 9)) (0.7.0)\n",
            "Requirement already satisfied: MarkupSafe>=0.23 in /usr/local/lib/python3.7/dist-packages (from jinja2->notebook->jupyter->nuscenes-devkit->-r requirements.txt (line 9)) (2.0.1)\n",
            "Requirement already satisfied: testpath in /usr/local/lib/python3.7/dist-packages (from nbconvert->jupyter->nuscenes-devkit->-r requirements.txt (line 9)) (0.6.0)\n",
            "Requirement already satisfied: bleach in /usr/local/lib/python3.7/dist-packages (from nbconvert->jupyter->nuscenes-devkit->-r requirements.txt (line 9)) (5.0.0)\n",
            "Requirement already satisfied: pandocfilters>=1.4.1 in /usr/local/lib/python3.7/dist-packages (from nbconvert->jupyter->nuscenes-devkit->-r requirements.txt (line 9)) (1.5.0)\n",
            "Requirement already satisfied: mistune<2,>=0.8.1 in /usr/local/lib/python3.7/dist-packages (from nbconvert->jupyter->nuscenes-devkit->-r requirements.txt (line 9)) (0.8.4)\n",
            "Requirement already satisfied: defusedxml in /usr/local/lib/python3.7/dist-packages (from nbconvert->jupyter->nuscenes-devkit->-r requirements.txt (line 9)) (0.7.1)\n",
            "Requirement already satisfied: entrypoints>=0.2.2 in /usr/local/lib/python3.7/dist-packages (from nbconvert->jupyter->nuscenes-devkit->-r requirements.txt (line 9)) (0.4)\n",
            "Requirement already satisfied: webencodings in /usr/local/lib/python3.7/dist-packages (from bleach->nbconvert->jupyter->nuscenes-devkit->-r requirements.txt (line 9)) (0.5.1)\n",
            "Requirement already satisfied: qtpy>=2.0.1 in /usr/local/lib/python3.7/dist-packages (from qtconsole->jupyter->nuscenes-devkit->-r requirements.txt (line 9)) (2.1.0)\n",
            "Requirement already satisfied: packaging in /usr/local/lib/python3.7/dist-packages (from qtpy>=2.0.1->qtconsole->jupyter->nuscenes-devkit->-r requirements.txt (line 9)) (21.3)\n",
            "Installing collected packages: pycocotools\n",
            "  Attempting uninstall: pycocotools\n",
            "    Found existing installation: pycocotools 2.0\n",
            "    Uninstalling pycocotools-2.0:\n",
            "      Successfully uninstalled pycocotools-2.0\n",
            "Successfully installed pycocotools-2.0.4\n",
            "Reading package lists... Done\n",
            "Building dependency tree       \n",
            "Reading state information... Done\n",
            "libx264-dev is already the newest version (2:0.152.2854+gite9a5903-2).\n",
            "The following package was automatically installed and is no longer required:\n",
            "  libnvidia-common-460\n",
            "Use 'apt autoremove' to remove it.\n",
            "0 upgraded, 0 newly installed, 0 to remove and 45 not upgraded.\n"
          ]
        }
      ]
    },
    {
      "cell_type": "code",
      "metadata": {
        "id": "uKJ6tH2P23jN",
        "colab": {
          "base_uri": "https://localhost:8080/"
        },
        "outputId": "53b0faac-713e-4fcb-db6c-12ab64e7add4"
      },
      "source": [
        "%ls src/lib/model/networks/"
      ],
      "execution_count": 7,
      "outputs": [
        {
          "output_type": "stream",
          "name": "stdout",
          "text": [
            "\u001b[0m\u001b[01;34mbackbones\u001b[0m/     \u001b[01;34mDCNv2\u001b[0m/  dlav0.py            \u001b[01;34mnecks\u001b[0m/        resdcn.py\n",
            "base_model.py  dla.py  generic_network.py  \u001b[01;34m__pycache__\u001b[0m/  resnet.py\n"
          ]
        }
      ]
    },
    {
      "cell_type": "code",
      "metadata": {
        "id": "sDiYoRH7oM5x"
      },
      "source": [
        "#%rm -r src/lib/model/networks/DCNv2"
      ],
      "execution_count": 8,
      "outputs": []
    },
    {
      "cell_type": "markdown",
      "metadata": {
        "id": "E7-8pXOBJu8G"
      },
      "source": [
        "5. Compile deformable convolutional (from DCNv2)."
      ]
    },
    {
      "cell_type": "code",
      "metadata": {
        "id": "NCylGnMy2Xkj",
        "colab": {
          "base_uri": "https://localhost:8080/"
        },
        "outputId": "50175d2a-716f-4299-94e0-c814de2d0d5d"
      },
      "source": [
        "# clone if it is not automatically downloaded by `--recursive`.\n",
        "%%shell\n",
        "\n",
        "cd src/lib/model/networks/\n",
        "git clone https://github.com/CharlesShang/DCNv2/  \n",
        "cd DCNv2/\n",
        "./make.sh"
      ],
      "execution_count": 9,
      "outputs": [
        {
          "output_type": "stream",
          "name": "stdout",
          "text": [
            "fatal: destination path 'DCNv2' already exists and is not an empty directory.\n",
            "running build\n",
            "running build_ext\n",
            "running develop\n",
            "running egg_info\n",
            "writing DCNv2.egg-info/PKG-INFO\n",
            "writing dependency_links to DCNv2.egg-info/dependency_links.txt\n",
            "writing top-level names to DCNv2.egg-info/top_level.txt\n",
            "adding license file 'LICENSE'\n",
            "writing manifest file 'DCNv2.egg-info/SOURCES.txt'\n",
            "running build_ext\n",
            "copying build/lib.linux-x86_64-3.7/_ext.cpython-37m-x86_64-linux-gnu.so -> \n",
            "Creating /usr/local/lib/python3.7/dist-packages/DCNv2.egg-link (link to .)\n",
            "DCNv2 0.1 is already the active version in easy-install.pth\n",
            "\n",
            "Installed /content/CenterTrack/src/lib/model/networks/DCNv2\n",
            "Processing dependencies for DCNv2==0.1\n",
            "Finished processing dependencies for DCNv2==0.1\n"
          ]
        },
        {
          "output_type": "execute_result",
          "data": {
            "text/plain": [
              ""
            ]
          },
          "metadata": {},
          "execution_count": 9
        }
      ]
    },
    {
      "cell_type": "markdown",
      "metadata": {
        "id": "3t1BrZh-KAJ1"
      },
      "source": [
        "6. Download pertained models for [monocular 3D tracking](https://drive.google.com/open?id=1e8zR1m1QMJne-Tjp-2iY_o81hn2CiQRt), [80-category tracking](https://drive.google.com/open?id=1tJCEJmdtYIh8VuN8CClGNws3YO7QGd40), or [pose tracking](https://drive.google.com/open?id=1tJCEJmdtYIh8VuN8CClGNws3YO7QGd40) and move them to \n",
        "`$CenterTrack_ROOT/models/`. \n",
        "\n",
        "  More models can be found in [Model zoo](https://github.com/xingyizhou/CenterTrack/blob/master/readme/MODEL_ZOO.md)."
      ]
    },
    {
      "cell_type": "code",
      "metadata": {
        "id": "S5mlF2KXZddE",
        "colab": {
          "base_uri": "https://localhost:8080/"
        },
        "outputId": "4edeeae6-878d-4782-878b-256c6d1a62ed"
      },
      "source": [
        "%mkdir models\n",
        "! gdown --id 1e8zR1m1QMJne-Tjp-2iY_o81hn2CiQRt -O models/nuScenes_3Dtracking.pth\n",
        "! gdown --id 1tJCEJmdtYIh8VuN8CClGNws3YO7QGd40 -O models/coco_tracking.pth\n",
        "! gdown --id 1H0YvFYCOIZ06EzAkC2NxECNQGXxK27hH -O models/coco_pose_tracking.pth\n",
        "! gdown --id 1sf1bWJ1LutwQ_wp176nd2Y3HII9WeFf0 -O models/mot17_half.pth\n",
        "! gdown --id 1h_8Ts11rf0GQ4_n6FgmCeBuFcWrRjJfa -O models/mot17_fulltrain.pth"
      ],
      "execution_count": 10,
      "outputs": [
        {
          "output_type": "stream",
          "name": "stdout",
          "text": [
            "mkdir: cannot create directory ‘models’: File exists\n",
            "/usr/local/lib/python3.7/dist-packages/gdown/cli.py:131: FutureWarning: Option `--id` was deprecated in version 4.3.1 and will be removed in 5.0. You don't need to pass it anymore to use a file ID.\n",
            "  category=FutureWarning,\n",
            "Downloading...\n",
            "From: https://drive.google.com/uc?id=1e8zR1m1QMJne-Tjp-2iY_o81hn2CiQRt\n",
            "To: /content/CenterTrack/models/nuScenes_3Dtracking.pth\n",
            "100% 81.8M/81.8M [00:00<00:00, 348MB/s]\n",
            "/usr/local/lib/python3.7/dist-packages/gdown/cli.py:131: FutureWarning: Option `--id` was deprecated in version 4.3.1 and will be removed in 5.0. You don't need to pass it anymore to use a file ID.\n",
            "  category=FutureWarning,\n",
            "Downloading...\n",
            "From: https://drive.google.com/uc?id=1tJCEJmdtYIh8VuN8CClGNws3YO7QGd40\n",
            "To: /content/CenterTrack/models/coco_tracking.pth\n",
            "100% 79.5M/79.5M [00:00<00:00, 326MB/s]\n",
            "/usr/local/lib/python3.7/dist-packages/gdown/cli.py:131: FutureWarning: Option `--id` was deprecated in version 4.3.1 and will be removed in 5.0. You don't need to pass it anymore to use a file ID.\n",
            "  category=FutureWarning,\n",
            "Downloading...\n",
            "From: https://drive.google.com/uc?id=1H0YvFYCOIZ06EzAkC2NxECNQGXxK27hH\n",
            "To: /content/CenterTrack/models/coco_pose_tracking.pth\n",
            "100% 81.2M/81.2M [00:00<00:00, 320MB/s]\n",
            "/usr/local/lib/python3.7/dist-packages/gdown/cli.py:131: FutureWarning: Option `--id` was deprecated in version 4.3.1 and will be removed in 5.0. You don't need to pass it anymore to use a file ID.\n",
            "  category=FutureWarning,\n",
            "Downloading...\n",
            "From: https://drive.google.com/uc?id=1sf1bWJ1LutwQ_wp176nd2Y3HII9WeFf0\n",
            "To: /content/CenterTrack/models/mot17_half.pth\n",
            "100% 80.0M/80.0M [00:00<00:00, 318MB/s]\n",
            "/usr/local/lib/python3.7/dist-packages/gdown/cli.py:131: FutureWarning: Option `--id` was deprecated in version 4.3.1 and will be removed in 5.0. You don't need to pass it anymore to use a file ID.\n",
            "  category=FutureWarning,\n",
            "Downloading...\n",
            "From: https://drive.google.com/uc?id=1h_8Ts11rf0GQ4_n6FgmCeBuFcWrRjJfa\n",
            "To: /content/CenterTrack/models/mot17_fulltrain.pth\n",
            "100% 80.0M/80.0M [00:00<00:00, 306MB/s]\n"
          ]
        }
      ]
    },
    {
      "cell_type": "code",
      "metadata": {
        "id": "PdHblfZC7wpX",
        "colab": {
          "base_uri": "https://localhost:8080/",
          "height": 356
        },
        "outputId": "f2ec64bb-b622-4643-e66d-587741df6dec"
      },
      "source": [
        "!pip install youtube-dl\n",
        "from IPython.display import YouTubeVideo\n",
        "\n",
        "# YOUTUBE_ID = 'MNn9qKG2UFI'   # car\n",
        "#YOUTUBE_ID = 'MNn9qKG2UFI'   \n",
        "YOUTUBE_ID = '2bKXv_XviFc'    # pedestrian \n",
        "\n",
        "YouTubeVideo(YOUTUBE_ID)"
      ],
      "execution_count": 11,
      "outputs": [
        {
          "output_type": "stream",
          "name": "stdout",
          "text": [
            "Looking in indexes: https://pypi.org/simple, https://us-python.pkg.dev/colab-wheels/public/simple/\n",
            "Requirement already satisfied: youtube-dl in /usr/local/lib/python3.7/dist-packages (2021.12.17)\n"
          ]
        },
        {
          "output_type": "execute_result",
          "data": {
            "text/plain": [
              "<IPython.lib.display.YouTubeVideo at 0x7f685307f950>"
            ],
            "text/html": [
              "\n",
              "        <iframe\n",
              "            width=\"400\"\n",
              "            height=\"300\"\n",
              "            src=\"https://www.youtube.com/embed/2bKXv_XviFc\"\n",
              "            frameborder=\"0\"\n",
              "            allowfullscreen\n",
              "        ></iframe>\n",
              "        "
            ],
            "image/jpeg": "[encoded data removed]"
          },
          "metadata": {},
          "execution_count": 11
        }
      ]
    },
    {
      "cell_type": "code",
      "metadata": {
        "id": "AF9KFFql7xkX",
        "colab": {
          "base_uri": "https://localhost:8080/"
        },
        "outputId": "14ea6720-63f7-433a-c24e-a5d53e76e790"
      },
      "source": [
        "#! rm -rf youtube.mp4\n",
        "# download the youtube with the given ID\n",
        "! youtube-dl -f 'bestvideo[ext=mp4]' --output \"youtube2.%(ext)s\" https://www.youtube.com/watch?v=$YOUTUBE_ID\n",
        "# cut the first 5 seconds\n",
        "! ffmpeg -y -loglevel info -i youtube2.mp4 -t 20 pedestrian.avi\n",
        "# ! ffmpeg -y -loglevel info -i youtube.mp4 -t 20 road_traffic.mp4"
      ],
      "execution_count": 12,
      "outputs": [
        {
          "output_type": "stream",
          "name": "stdout",
          "text": [
            "[youtube] 2bKXv_XviFc: Downloading webpage\n",
            "[youtube] 2bKXv_XviFc: Downloading MPD manifest\n",
            "[download] youtube2.mp4 has already been downloaded\n",
            "\u001b[K[download] 100% of 39.22MiB\n",
            "ffmpeg version 3.4.8-0ubuntu0.2 Copyright (c) 2000-2020 the FFmpeg developers\n",
            "  built with gcc 7 (Ubuntu 7.5.0-3ubuntu1~18.04)\n",
            "  configuration: --prefix=/usr --extra-version=0ubuntu0.2 --toolchain=hardened --libdir=/usr/lib/x86_64-linux-gnu --incdir=/usr/include/x86_64-linux-gnu --enable-gpl --disable-stripping --enable-avresample --enable-avisynth --enable-gnutls --enable-ladspa --enable-libass --enable-libbluray --enable-libbs2b --enable-libcaca --enable-libcdio --enable-libflite --enable-libfontconfig --enable-libfreetype --enable-libfribidi --enable-libgme --enable-libgsm --enable-libmp3lame --enable-libmysofa --enable-libopenjpeg --enable-libopenmpt --enable-libopus --enable-libpulse --enable-librubberband --enable-librsvg --enable-libshine --enable-libsnappy --enable-libsoxr --enable-libspeex --enable-libssh --enable-libtheora --enable-libtwolame --enable-libvorbis --enable-libvpx --enable-libwavpack --enable-libwebp --enable-libx265 --enable-libxml2 --enable-libxvid --enable-libzmq --enable-libzvbi --enable-omx --enable-openal --enable-opengl --enable-sdl2 --enable-libdc1394 --enable-libdrm --enable-libiec61883 --enable-chromaprint --enable-frei0r --enable-libopencv --enable-libx264 --enable-shared\n",
            "  libavutil      55. 78.100 / 55. 78.100\n",
            "  libavcodec     57.107.100 / 57.107.100\n",
            "  libavformat    57. 83.100 / 57. 83.100\n",
            "  libavdevice    57. 10.100 / 57. 10.100\n",
            "  libavfilter     6.107.100 /  6.107.100\n",
            "  libavresample   3.  7.  0 /  3.  7.  0\n",
            "  libswscale      4.  8.100 /  4.  8.100\n",
            "  libswresample   2.  9.100 /  2.  9.100\n",
            "  libpostproc    54.  7.100 / 54.  7.100\n",
            "Input #0, mov,mp4,m4a,3gp,3g2,mj2, from 'youtube2.mp4':\n",
            "  Metadata:\n",
            "    major_brand     : dash\n",
            "    minor_version   : 0\n",
            "    compatible_brands: iso6avc1mp41\n",
            "    creation_time   : 2021-08-03T06:41:00.000000Z\n",
            "  Duration: 00:08:11.92, start: 0.000000, bitrate: 668 kb/s\n",
            "    Stream #0:0(und): Video: h264 (Main) (avc1 / 0x31637661), yuv420p(tv, bt709, progressive), 1280x720 [SAR 1:1 DAR 16:9], 6 kb/s, 29.97 fps, 29.97 tbr, 30k tbn, 59.94 tbc (default)\n",
            "    Metadata:\n",
            "      creation_time   : 2021-08-03T06:41:00.000000Z\n",
            "      handler_name    : ISO Media file produced by Google Inc.\n",
            "Stream mapping:\n",
            "  Stream #0:0 -> #0:0 (h264 (native) -> mpeg4 (native))\n",
            "Press [q] to stop, [?] for help\n",
            "Output #0, avi, to 'pedestrian.avi':\n",
            "  Metadata:\n",
            "    major_brand     : dash\n",
            "    minor_version   : 0\n",
            "    compatible_brands: iso6avc1mp41\n",
            "    ISFT            : Lavf57.83.100\n",
            "    Stream #0:0(und): Video: mpeg4 (FMP4 / 0x34504D46), yuv420p, 1280x720 [SAR 1:1 DAR 16:9], q=2-31, 200 kb/s, 29.97 fps, 29.97 tbn, 29.97 tbc (default)\n",
            "    Metadata:\n",
            "      creation_time   : 2021-08-03T06:41:00.000000Z\n",
            "      handler_name    : ISO Media file produced by Google Inc.\n",
            "      encoder         : Lavc57.107.100 mpeg4\n",
            "    Side data:\n",
            "      cpb: bitrate max/min/avg: 0/0/200000 buffer size: 0 vbv_delay: -1\n",
            "frame=  566 fps=205 q=31.0 Lsize=    1344kB time=00:00:18.88 bitrate= 583.0kbits/s speed=6.85x    \n",
            "video:1325kB audio:0kB subtitle:0kB other streams:0kB global headers:0kB muxing overhead: 1.448414%\n",
            "Exiting normally, received signal 2.\n"
          ]
        }
      ]
    },
    {
      "cell_type": "markdown",
      "metadata": {
        "id": "Rn0cPU8RfXbo"
      },
      "source": [
        "## Use CenterTrack"
      ]
    },
    {
      "cell_type": "code",
      "metadata": {
        "id": "hRsTsPCd-YAO",
        "colab": {
          "base_uri": "https://localhost:8080/"
        },
        "outputId": "8d822b2d-4a02-4e40-d25e-e5f4199005a5"
      },
      "source": [
        "%cd src/"
      ],
      "execution_count": 13,
      "outputs": [
        {
          "output_type": "stream",
          "name": "stdout",
          "text": [
            "/content/CenterTrack/src\n"
          ]
        }
      ]
    },
    {
      "cell_type": "markdown",
      "metadata": {
        "id": "GkGUyAR5NPyA"
      },
      "source": [
        "**Note:**\n",
        "1. replace \"cv2.imshow\" in function show_all_image in \"debugger.py(/src/lib/utils/)\" with \"pass\"\n",
        "2. comment out  \"cv2.imshow\" at line 80 in \"demo.py\"."
      ]
    },
    {
      "cell_type": "markdown",
      "metadata": {
        "id": "r_eepSVd8VIa"
      },
      "source": [
        "Video clip from the [nuScenes dataset](https://www.nuscenes.org/?externalData=all&mapData=all&modalities=Any) in `videos/nuscenes_mini.mp4`. To test monocular 3D tracking on this video, run"
      ]
    },
    {
      "cell_type": "code",
      "metadata": {
        "id": "NzdHGbh-8DPi",
        "colab": {
          "base_uri": "https://localhost:8080/"
        },
        "outputId": "3ed6ac1d-74b2-4a36-d9ec-72a4ec59aa0b"
      },
      "source": [
        "# ! python demo.py tracking,ddd --load_model ../models/nuScenes_3Dtracking.pth --dataset nuscenes --pre_hm --track_thresh 0.1 --demo ../nuscenes_mini.mp4 --test_focal_length 633 --save_video --video_h 480 --video_w 720 --debug 2\n",
        "! python demo.py tracking,ddd --load_model ../models/nuScenes_3Dtracking.pth --dataset nuscenes --pre_hm --track_thresh 0.1 --demo ../pedestrian.avi --test_focal_length 633 --save_video --video_h 448 --video_w 800\n",
        "#! python demo.py tracking,ddd --load_model ../models/nuScenes_3Dtracking.pth --dataset nuscenes --pre_hm --track_thresh 0.1 --demo road_traffic.avi --save_video"
      ],
      "execution_count": 57,
      "outputs": [
        {
          "output_type": "stream",
          "name": "stdout",
          "text": [
            "/usr/local/lib/python3.7/dist-packages/sklearn/utils/linear_assignment_.py:22: FutureWarning: The linear_assignment_ module is deprecated in 0.21 and will be removed from 0.23. Use scipy.optimize.linear_sum_assignment instead.\n",
            "  FutureWarning)\n",
            "Running tracking\n",
            "Using tracking threshold for out threshold! 0.1\n",
            "Fix size testing.\n",
            "training chunk_sizes: [32]\n",
            "input h w: 448 800\n",
            "heads {'hm': 10, 'reg': 2, 'wh': 2, 'tracking': 2, 'dep': 1, 'rot': 8, 'dim': 3, 'amodel_offset': 2}\n",
            "weights {'hm': 1, 'reg': 1, 'wh': 0.1, 'tracking': 1, 'dep': 1, 'rot': 1, 'dim': 1, 'amodel_offset': 1}\n",
            "head conv {'hm': [256], 'reg': [256], 'wh': [256], 'tracking': [256], 'dep': [256], 'rot': [256], 'dim': [256], 'amodel_offset': [256]}\n",
            "Creating model...\n",
            "Using node type: (<class 'model.networks.dla.DeformConv'>, <class 'model.networks.dla.DeformConv'>)\n",
            "Warning: No ImageNet pretrain!!\n",
            "loaded ../models/nuScenes_3Dtracking.pth, epoch 70\n",
            "frame rate: 30\n",
            "out_name pedestrian.avi\n",
            "OpenCV: FFMPEG: tag 0x58564944/'DIVX' is not supported with codec id 12 and format 'mp4 / MP4 (MPEG-4 Part 14)'\n",
            "OpenCV: FFMPEG: fallback to use tag 0x7634706d/'mp4v'\n",
            "Initialize tracking!\n",
            "frame 1 |tot 0.109s |load 0.000s |pre 0.017s |net 0.085s |dec 0.003s |post 0.002s |merge 0.000s |display 0.010s |\n",
            "frame 2 |tot 0.097s |load 0.000s |pre 0.020s |net 0.071s |dec 0.002s |post 0.003s |merge 0.000s |display 0.010s |\n",
            "frame 3 |tot 0.085s |load 0.000s |pre 0.020s |net 0.059s |dec 0.002s |post 0.003s |merge 0.000s |display 0.010s |\n",
            "frame 4 |tot 0.080s |load 0.000s |pre 0.020s |net 0.053s |dec 0.002s |post 0.004s |merge 0.000s |display 0.012s |\n",
            "frame 5 |tot 0.081s |load 0.000s |pre 0.022s |net 0.053s |dec 0.002s |post 0.004s |merge 0.000s |display 0.011s |\n",
            "frame 6 |tot 0.077s |load 0.000s |pre 0.020s |net 0.051s |dec 0.002s |post 0.004s |merge 0.000s |display 0.009s |\n",
            "frame 7 |tot 0.079s |load 0.000s |pre 0.022s |net 0.051s |dec 0.002s |post 0.004s |merge 0.000s |display 0.010s |\n",
            "frame 8 |tot 0.078s |load 0.000s |pre 0.022s |net 0.051s |dec 0.002s |post 0.004s |merge 0.000s |display 0.012s |\n",
            "frame 9 |tot 0.070s |load 0.000s |pre 0.020s |net 0.044s |dec 0.002s |post 0.004s |merge 0.000s |display 0.010s |\n",
            "frame 10 |tot 0.071s |load 0.000s |pre 0.021s |net 0.044s |dec 0.002s |post 0.004s |merge 0.000s |display 0.010s |\n",
            "frame 11 |tot 0.072s |load 0.000s |pre 0.022s |net 0.044s |dec 0.002s |post 0.004s |merge 0.000s |display 0.009s |\n",
            "frame 12 |tot 0.070s |load 0.000s |pre 0.022s |net 0.042s |dec 0.002s |post 0.003s |merge 0.000s |display 0.009s |\n",
            "frame 13 |tot 0.068s |load 0.000s |pre 0.020s |net 0.042s |dec 0.002s |post 0.003s |merge 0.000s |display 0.011s |\n",
            "frame 14 |tot 0.069s |load 0.000s |pre 0.022s |net 0.041s |dec 0.002s |post 0.003s |merge 0.000s |display 0.009s |\n",
            "frame 15 |tot 0.069s |load 0.000s |pre 0.022s |net 0.041s |dec 0.002s |post 0.003s |merge 0.000s |display 0.010s |\n",
            "frame 16 |tot 0.068s |load 0.000s |pre 0.021s |net 0.041s |dec 0.002s |post 0.003s |merge 0.000s |display 0.009s |\n",
            "frame 17 |tot 0.066s |load 0.000s |pre 0.019s |net 0.042s |dec 0.002s |post 0.003s |merge 0.000s |display 0.009s |\n",
            "frame 18 |tot 0.066s |load 0.000s |pre 0.019s |net 0.041s |dec 0.002s |post 0.003s |merge 0.000s |display 0.008s |\n",
            "frame 19 |tot 0.066s |load 0.000s |pre 0.019s |net 0.041s |dec 0.002s |post 0.003s |merge 0.000s |display 0.008s |\n",
            "frame 20 |tot 0.067s |load 0.000s |pre 0.020s |net 0.041s |dec 0.002s |post 0.003s |merge 0.000s |display 0.009s |\n",
            "frame 21 |tot 0.066s |load 0.000s |pre 0.019s |net 0.041s |dec 0.002s |post 0.003s |merge 0.000s |display 0.009s |\n",
            "frame 22 |tot 0.068s |load 0.000s |pre 0.021s |net 0.041s |dec 0.002s |post 0.003s |merge 0.000s |display 0.009s |\n",
            "frame 23 |tot 0.068s |load 0.000s |pre 0.021s |net 0.041s |dec 0.002s |post 0.003s |merge 0.000s |display 0.009s |\n",
            "frame 24 |tot 0.067s |load 0.000s |pre 0.020s |net 0.042s |dec 0.002s |post 0.003s |merge 0.000s |display 0.009s |\n",
            "frame 25 |tot 0.069s |load 0.000s |pre 0.022s |net 0.042s |dec 0.002s |post 0.003s |merge 0.000s |display 0.009s |\n",
            "frame 26 |tot 0.066s |load 0.000s |pre 0.020s |net 0.042s |dec 0.002s |post 0.003s |merge 0.000s |display 0.008s |\n",
            "frame 27 |tot 0.066s |load 0.000s |pre 0.019s |net 0.042s |dec 0.002s |post 0.003s |merge 0.000s |display 0.009s |\n",
            "frame 28 |tot 0.066s |load 0.000s |pre 0.019s |net 0.042s |dec 0.002s |post 0.003s |merge 0.000s |display 0.009s |\n",
            "frame 29 |tot 0.067s |load 0.000s |pre 0.019s |net 0.041s |dec 0.002s |post 0.004s |merge 0.000s |display 0.013s |\n",
            "frame 30 |tot 0.066s |load 0.000s |pre 0.019s |net 0.041s |dec 0.002s |post 0.003s |merge 0.000s |display 0.009s |\n",
            "frame 31 |tot 0.067s |load 0.000s |pre 0.019s |net 0.041s |dec 0.002s |post 0.004s |merge 0.000s |display 0.010s |\n",
            "frame 32 |tot 0.066s |load 0.000s |pre 0.020s |net 0.041s |dec 0.002s |post 0.003s |merge 0.000s |display 0.010s |\n",
            "frame 33 |tot 0.076s |load 0.000s |pre 0.026s |net 0.042s |dec 0.003s |post 0.005s |merge 0.000s |display 0.010s |\n",
            "frame 34 |tot 0.067s |load 0.000s |pre 0.019s |net 0.042s |dec 0.002s |post 0.003s |merge 0.000s |display 0.010s |\n",
            "frame 35 |tot 0.069s |load 0.000s |pre 0.020s |net 0.041s |dec 0.003s |post 0.004s |merge 0.000s |display 0.010s |\n",
            "frame 36 |tot 0.067s |load 0.000s |pre 0.021s |net 0.041s |dec 0.002s |post 0.003s |merge 0.000s |display 0.010s |\n",
            "frame 37 |tot 0.067s |load 0.000s |pre 0.021s |net 0.041s |dec 0.002s |post 0.003s |merge 0.000s |display 0.009s |\n",
            "frame 38 |tot 0.067s |load 0.000s |pre 0.020s |net 0.041s |dec 0.002s |post 0.003s |merge 0.000s |display 0.009s |\n",
            "frame 39 |tot 0.067s |load 0.000s |pre 0.020s |net 0.042s |dec 0.002s |post 0.003s |merge 0.000s |display 0.009s |\n",
            "frame 40 |tot 0.068s |load 0.000s |pre 0.021s |net 0.041s |dec 0.002s |post 0.003s |merge 0.000s |display 0.008s |\n",
            "frame 41 |tot 0.070s |load 0.000s |pre 0.023s |net 0.041s |dec 0.002s |post 0.004s |merge 0.000s |display 0.009s |\n",
            "frame 42 |tot 0.066s |load 0.000s |pre 0.020s |net 0.041s |dec 0.002s |post 0.003s |merge 0.000s |display 0.010s |\n",
            "frame 43 |tot 0.072s |load 0.000s |pre 0.025s |net 0.042s |dec 0.002s |post 0.003s |merge 0.000s |display 0.009s |\n",
            "frame 44 |tot 0.067s |load 0.000s |pre 0.020s |net 0.042s |dec 0.002s |post 0.004s |merge 0.000s |display 0.008s |\n",
            "frame 45 |tot 0.067s |load 0.000s |pre 0.020s |net 0.042s |dec 0.002s |post 0.003s |merge 0.000s |display 0.009s |\n",
            "frame 46 |tot 0.066s |load 0.000s |pre 0.019s |net 0.041s |dec 0.002s |post 0.003s |merge 0.000s |display 0.008s |\n",
            "frame 47 |tot 0.065s |load 0.000s |pre 0.019s |net 0.041s |dec 0.002s |post 0.003s |merge 0.000s |display 0.008s |\n",
            "frame 48 |tot 0.066s |load 0.000s |pre 0.019s |net 0.041s |dec 0.002s |post 0.003s |merge 0.000s |display 0.008s |\n",
            "frame 49 |tot 0.066s |load 0.000s |pre 0.019s |net 0.041s |dec 0.002s |post 0.004s |merge 0.000s |display 0.008s |\n",
            "frame 50 |tot 0.066s |load 0.000s |pre 0.020s |net 0.041s |dec 0.002s |post 0.003s |merge 0.000s |display 0.008s |\n",
            "frame 51 |tot 0.068s |load 0.000s |pre 0.021s |net 0.041s |dec 0.002s |post 0.004s |merge 0.000s |display 0.009s |\n",
            "frame 52 |tot 0.067s |load 0.000s |pre 0.021s |net 0.041s |dec 0.002s |post 0.003s |merge 0.000s |display 0.008s |\n",
            "frame 53 |tot 0.069s |load 0.000s |pre 0.023s |net 0.041s |dec 0.002s |post 0.003s |merge 0.000s |display 0.009s |\n",
            "frame 54 |tot 0.067s |load 0.000s |pre 0.020s |net 0.041s |dec 0.002s |post 0.004s |merge 0.000s |display 0.008s |\n",
            "frame 55 |tot 0.067s |load 0.000s |pre 0.020s |net 0.042s |dec 0.002s |post 0.004s |merge 0.000s |display 0.009s |\n",
            "frame 56 |tot 0.072s |load 0.000s |pre 0.025s |net 0.042s |dec 0.002s |post 0.003s |merge 0.000s |display 0.010s |\n",
            "frame 57 |tot 0.067s |load 0.000s |pre 0.019s |net 0.042s |dec 0.002s |post 0.004s |merge 0.000s |display 0.008s |\n",
            "frame 58 |tot 0.069s |load 0.000s |pre 0.019s |net 0.042s |dec 0.002s |post 0.005s |merge 0.000s |display 0.012s |\n",
            "frame 59 |tot 0.066s |load 0.000s |pre 0.019s |net 0.041s |dec 0.002s |post 0.004s |merge 0.000s |display 0.009s |\n",
            "frame 60 |tot 0.066s |load 0.000s |pre 0.020s |net 0.041s |dec 0.002s |post 0.003s |merge 0.000s |display 0.009s |\n",
            "frame 61 |tot 0.067s |load 0.000s |pre 0.020s |net 0.042s |dec 0.002s |post 0.003s |merge 0.000s |display 0.009s |\n",
            "frame 62 |tot 0.066s |load 0.000s |pre 0.019s |net 0.042s |dec 0.002s |post 0.003s |merge 0.000s |display 0.008s |\n",
            "frame 63 |tot 0.066s |load 0.000s |pre 0.020s |net 0.041s |dec 0.002s |post 0.003s |merge 0.000s |display 0.008s |\n",
            "frame 64 |tot 0.066s |load 0.000s |pre 0.020s |net 0.041s |dec 0.002s |post 0.003s |merge 0.000s |display 0.008s |\n",
            "frame 65 |tot 0.066s |load 0.000s |pre 0.019s |net 0.041s |dec 0.002s |post 0.003s |merge 0.000s |display 0.009s |\n",
            "frame 66 |tot 0.067s |load 0.000s |pre 0.020s |net 0.041s |dec 0.002s |post 0.003s |merge 0.000s |display 0.010s |\n",
            "frame 67 |tot 0.066s |load 0.000s |pre 0.019s |net 0.041s |dec 0.002s |post 0.003s |merge 0.000s |display 0.008s |\n",
            "frame 68 |tot 0.066s |load 0.000s |pre 0.020s |net 0.041s |dec 0.002s |post 0.003s |merge 0.000s |display 0.008s |\n",
            "frame 69 |tot 0.067s |load 0.000s |pre 0.020s |net 0.041s |dec 0.002s |post 0.004s |merge 0.000s |display 0.009s |\n",
            "frame 70 |tot 0.067s |load 0.000s |pre 0.020s |net 0.041s |dec 0.002s |post 0.004s |merge 0.000s |display 0.009s |\n",
            "frame 71 |tot 0.068s |load 0.000s |pre 0.020s |net 0.041s |dec 0.002s |post 0.004s |merge 0.000s |display 0.009s |\n",
            "frame 72 |tot 0.069s |load 0.000s |pre 0.021s |net 0.041s |dec 0.002s |post 0.004s |merge 0.000s |display 0.009s |\n",
            "frame 73 |tot 0.068s |load 0.000s |pre 0.020s |net 0.041s |dec 0.002s |post 0.004s |merge 0.000s |display 0.008s |\n",
            "frame 74 |tot 0.066s |load 0.000s |pre 0.019s |net 0.041s |dec 0.002s |post 0.003s |merge 0.000s |display 0.008s |\n",
            "frame 75 |tot 0.067s |load 0.000s |pre 0.020s |net 0.041s |dec 0.002s |post 0.004s |merge 0.000s |display 0.008s |\n",
            "frame 76 |tot 0.068s |load 0.000s |pre 0.020s |net 0.042s |dec 0.002s |post 0.004s |merge 0.000s |display 0.010s |\n",
            "frame 77 |tot 0.069s |load 0.000s |pre 0.020s |net 0.041s |dec 0.002s |post 0.005s |merge 0.000s |display 0.008s |\n",
            "frame 78 |tot 0.067s |load 0.000s |pre 0.020s |net 0.042s |dec 0.002s |post 0.004s |merge 0.000s |display 0.008s |\n",
            "frame 79 |tot 0.068s |load 0.000s |pre 0.020s |net 0.042s |dec 0.002s |post 0.004s |merge 0.000s |display 0.008s |\n",
            "frame 80 |tot 0.067s |load 0.000s |pre 0.020s |net 0.041s |dec 0.002s |post 0.003s |merge 0.000s |display 0.008s |\n",
            "frame 81 |tot 0.067s |load 0.000s |pre 0.020s |net 0.042s |dec 0.002s |post 0.003s |merge 0.000s |display 0.008s |\n",
            "frame 82 |tot 0.068s |load 0.000s |pre 0.020s |net 0.041s |dec 0.002s |post 0.004s |merge 0.000s |display 0.008s |\n",
            "frame 83 |tot 0.072s |load 0.000s |pre 0.020s |net 0.042s |dec 0.003s |post 0.006s |merge 0.000s |display 0.008s |\n",
            "frame 84 |tot 0.068s |load 0.000s |pre 0.020s |net 0.041s |dec 0.002s |post 0.004s |merge 0.000s |display 0.008s |\n",
            "frame 85 |tot 0.068s |load 0.000s |pre 0.020s |net 0.042s |dec 0.002s |post 0.004s |merge 0.000s |display 0.008s |\n",
            "frame 86 |tot 0.068s |load 0.000s |pre 0.020s |net 0.042s |dec 0.002s |post 0.004s |merge 0.000s |display 0.008s |\n",
            "frame 87 |tot 0.067s |load 0.000s |pre 0.020s |net 0.042s |dec 0.002s |post 0.003s |merge 0.000s |display 0.008s |\n",
            "frame 88 |tot 0.067s |load 0.000s |pre 0.020s |net 0.042s |dec 0.002s |post 0.003s |merge 0.000s |display 0.008s |\n",
            "frame 89 |tot 0.067s |load 0.000s |pre 0.020s |net 0.041s |dec 0.002s |post 0.003s |merge 0.000s |display 0.008s |\n",
            "frame 90 |tot 0.065s |load 0.000s |pre 0.019s |net 0.041s |dec 0.002s |post 0.003s |merge 0.000s |display 0.008s |\n",
            "frame 91 |tot 0.066s |load 0.000s |pre 0.019s |net 0.041s |dec 0.002s |post 0.003s |merge 0.000s |display 0.008s |\n",
            "frame 92 |tot 0.066s |load 0.000s |pre 0.020s |net 0.041s |dec 0.002s |post 0.003s |merge 0.000s |display 0.008s |\n",
            "frame 93 |tot 0.066s |load 0.000s |pre 0.020s |net 0.041s |dec 0.002s |post 0.003s |merge 0.000s |display 0.009s |\n",
            "frame 94 |tot 0.067s |load 0.000s |pre 0.020s |net 0.041s |dec 0.002s |post 0.003s |merge 0.000s |display 0.009s |\n",
            "frame 95 |tot 0.067s |load 0.000s |pre 0.020s |net 0.041s |dec 0.002s |post 0.004s |merge 0.000s |display 0.010s |\n",
            "frame 96 |tot 0.067s |load 0.000s |pre 0.020s |net 0.041s |dec 0.002s |post 0.003s |merge 0.000s |display 0.008s |\n",
            "frame 97 |tot 0.068s |load 0.000s |pre 0.021s |net 0.041s |dec 0.002s |post 0.003s |merge 0.000s |display 0.008s |\n",
            "frame 98 |tot 0.067s |load 0.000s |pre 0.019s |net 0.041s |dec 0.002s |post 0.003s |merge 0.000s |display 0.009s |\n",
            "frame 99 |tot 0.067s |load 0.000s |pre 0.019s |net 0.041s |dec 0.002s |post 0.003s |merge 0.000s |display 0.008s |\n",
            "frame 100 |tot 0.067s |load 0.000s |pre 0.020s |net 0.041s |dec 0.002s |post 0.003s |merge 0.000s |display 0.008s |\n",
            "frame 101 |tot 0.067s |load 0.000s |pre 0.020s |net 0.041s |dec 0.002s |post 0.003s |merge 0.000s |display 0.008s |\n",
            "frame 102 |tot 0.067s |load 0.000s |pre 0.020s |net 0.042s |dec 0.002s |post 0.003s |merge 0.000s |display 0.007s |\n",
            "frame 103 |tot 0.067s |load 0.000s |pre 0.020s |net 0.041s |dec 0.002s |post 0.003s |merge 0.000s |display 0.007s |\n",
            "frame 104 |tot 0.070s |load 0.000s |pre 0.023s |net 0.042s |dec 0.002s |post 0.003s |merge 0.000s |display 0.008s |\n",
            "frame 105 |tot 0.068s |load 0.000s |pre 0.021s |net 0.041s |dec 0.002s |post 0.003s |merge 0.000s |display 0.008s |\n",
            "frame 106 |tot 0.067s |load 0.000s |pre 0.019s |net 0.041s |dec 0.002s |post 0.003s |merge 0.000s |display 0.008s |\n",
            "frame 107 |tot 0.065s |load 0.000s |pre 0.019s |net 0.041s |dec 0.002s |post 0.003s |merge 0.000s |display 0.008s |\n",
            "frame 108 |tot 0.067s |load 0.000s |pre 0.020s |net 0.041s |dec 0.002s |post 0.003s |merge 0.000s |display 0.008s |\n",
            "frame 109 |tot 0.066s |load 0.000s |pre 0.019s |net 0.041s |dec 0.002s |post 0.003s |merge 0.000s |display 0.007s |\n",
            "frame 110 |tot 0.066s |load 0.000s |pre 0.019s |net 0.041s |dec 0.002s |post 0.004s |merge 0.000s |display 0.008s |\n",
            "frame 111 |tot 0.066s |load 0.000s |pre 0.019s |net 0.041s |dec 0.002s |post 0.003s |merge 0.000s |display 0.008s |\n",
            "frame 112 |tot 0.068s |load 0.000s |pre 0.020s |net 0.042s |dec 0.002s |post 0.004s |merge 0.000s |display 0.010s |\n",
            "frame 113 |tot 0.066s |load 0.000s |pre 0.019s |net 0.042s |dec 0.002s |post 0.003s |merge 0.000s |display 0.009s |\n",
            "frame 114 |tot 0.067s |load 0.000s |pre 0.020s |net 0.042s |dec 0.002s |post 0.003s |merge 0.000s |display 0.008s |\n",
            "frame 115 |tot 0.068s |load 0.000s |pre 0.019s |net 0.041s |dec 0.002s |post 0.005s |merge 0.000s |display 0.008s |\n",
            "frame 116 |tot 0.068s |load 0.000s |pre 0.020s |net 0.040s |dec 0.002s |post 0.004s |merge 0.000s |display 0.008s |\n",
            "frame 117 |tot 0.066s |load 0.000s |pre 0.020s |net 0.041s |dec 0.002s |post 0.003s |merge 0.000s |display 0.008s |\n",
            "frame 118 |tot 0.067s |load 0.000s |pre 0.019s |net 0.041s |dec 0.002s |post 0.005s |merge 0.000s |display 0.008s |\n",
            "frame 119 |tot 0.065s |load 0.000s |pre 0.019s |net 0.040s |dec 0.002s |post 0.004s |merge 0.000s |display 0.007s |\n",
            "frame 120 |tot 0.067s |load 0.000s |pre 0.020s |net 0.040s |dec 0.002s |post 0.004s |merge 0.000s |display 0.008s |\n",
            "frame 121 |tot 0.066s |load 0.000s |pre 0.019s |net 0.040s |dec 0.002s |post 0.005s |merge 0.000s |display 0.010s |\n",
            "frame 122 |tot 0.067s |load 0.000s |pre 0.020s |net 0.041s |dec 0.002s |post 0.004s |merge 0.000s |display 0.007s |\n",
            "frame 123 |tot 0.065s |load 0.000s |pre 0.020s |net 0.040s |dec 0.002s |post 0.003s |merge 0.000s |display 0.007s |\n",
            "frame 124 |tot 0.079s |load 0.000s |pre 0.030s |net 0.041s |dec 0.002s |post 0.005s |merge 0.000s |display 0.007s |\n",
            "frame 125 |tot 0.065s |load 0.000s |pre 0.019s |net 0.041s |dec 0.002s |post 0.003s |merge 0.000s |display 0.007s |\n",
            "frame 126 |tot 0.068s |load 0.000s |pre 0.020s |net 0.040s |dec 0.002s |post 0.004s |merge 0.000s |display 0.007s |\n",
            "frame 127 |tot 0.067s |load 0.000s |pre 0.020s |net 0.040s |dec 0.002s |post 0.005s |merge 0.000s |display 0.008s |\n",
            "frame 128 |tot 0.067s |load 0.000s |pre 0.020s |net 0.040s |dec 0.002s |post 0.004s |merge 0.000s |display 0.008s |\n",
            "frame 129 |tot 0.067s |load 0.000s |pre 0.020s |net 0.040s |dec 0.002s |post 0.004s |merge 0.000s |display 0.007s |\n",
            "frame 130 |tot 0.067s |load 0.000s |pre 0.019s |net 0.040s |dec 0.002s |post 0.004s |merge 0.000s |display 0.010s |\n",
            "frame 131 |tot 0.066s |load 0.000s |pre 0.020s |net 0.040s |dec 0.002s |post 0.004s |merge 0.000s |display 0.008s |\n",
            "frame 132 |tot 0.070s |load 0.000s |pre 0.023s |net 0.041s |dec 0.002s |post 0.004s |merge 0.000s |display 0.008s |\n",
            "frame 133 |tot 0.067s |load 0.000s |pre 0.020s |net 0.041s |dec 0.002s |post 0.004s |merge 0.000s |display 0.007s |\n",
            "frame 134 |tot 0.073s |load 0.000s |pre 0.020s |net 0.042s |dec 0.003s |post 0.007s |merge 0.000s |display 0.009s |\n",
            "frame 135 |tot 0.068s |load 0.000s |pre 0.020s |net 0.042s |dec 0.002s |post 0.004s |merge 0.000s |display 0.011s |\n",
            "frame 136 |tot 0.071s |load 0.000s |pre 0.023s |net 0.041s |dec 0.002s |post 0.004s |merge 0.000s |display 0.009s |\n",
            "frame 137 |tot 0.068s |load 0.000s |pre 0.020s |net 0.041s |dec 0.002s |post 0.004s |merge 0.000s |display 0.008s |\n",
            "frame 138 |tot 0.071s |load 0.000s |pre 0.019s |net 0.041s |dec 0.002s |post 0.008s |merge 0.000s |display 0.008s |\n",
            "frame 139 |tot 0.067s |load 0.000s |pre 0.020s |net 0.041s |dec 0.002s |post 0.003s |merge 0.000s |display 0.008s |\n",
            "frame 140 |tot 0.068s |load 0.000s |pre 0.019s |net 0.041s |dec 0.002s |post 0.004s |merge 0.000s |display 0.010s |\n",
            "frame 141 |tot 0.069s |load 0.000s |pre 0.019s |net 0.041s |dec 0.002s |post 0.006s |merge 0.000s |display 0.007s |\n",
            "frame 142 |tot 0.069s |load 0.000s |pre 0.020s |net 0.042s |dec 0.002s |post 0.005s |merge 0.000s |display 0.008s |\n",
            "frame 143 |tot 0.073s |load 0.000s |pre 0.019s |net 0.041s |dec 0.003s |post 0.009s |merge 0.000s |display 0.008s |\n",
            "frame 144 |tot 0.074s |load 0.000s |pre 0.021s |net 0.041s |dec 0.003s |post 0.009s |merge 0.000s |display 0.009s |\n",
            "frame 145 |tot 0.066s |load 0.000s |pre 0.019s |net 0.041s |dec 0.002s |post 0.003s |merge 0.000s |display 0.007s |\n",
            "frame 146 |tot 0.069s |load 0.000s |pre 0.020s |net 0.041s |dec 0.003s |post 0.004s |merge 0.000s |display 0.008s |\n",
            "frame 147 |tot 0.073s |load 0.000s |pre 0.021s |net 0.041s |dec 0.002s |post 0.007s |merge 0.000s |display 0.011s |\n",
            "frame 148 |tot 0.074s |load 0.000s |pre 0.028s |net 0.042s |dec 0.002s |post 0.003s |merge 0.000s |display 0.007s |\n",
            "frame 149 |tot 0.067s |load 0.000s |pre 0.020s |net 0.042s |dec 0.002s |post 0.003s |merge 0.000s |display 0.008s |\n",
            "frame 150 |tot 0.067s |load 0.000s |pre 0.019s |net 0.042s |dec 0.002s |post 0.004s |merge 0.000s |display 0.010s |\n",
            "frame 151 |tot 0.066s |load 0.000s |pre 0.019s |net 0.041s |dec 0.002s |post 0.004s |merge 0.000s |display 0.007s |\n",
            "frame 152 |tot 0.068s |load 0.000s |pre 0.021s |net 0.041s |dec 0.002s |post 0.004s |merge 0.000s |display 0.007s |\n",
            "frame 153 |tot 0.067s |load 0.000s |pre 0.020s |net 0.040s |dec 0.002s |post 0.004s |merge 0.000s |display 0.008s |\n",
            "frame 154 |tot 0.069s |load 0.000s |pre 0.019s |net 0.041s |dec 0.004s |post 0.005s |merge 0.000s |display 0.008s |\n",
            "frame 155 |tot 0.067s |load 0.000s |pre 0.020s |net 0.041s |dec 0.002s |post 0.004s |merge 0.000s |display 0.008s |\n",
            "frame 156 |tot 0.068s |load 0.000s |pre 0.020s |net 0.041s |dec 0.002s |post 0.004s |merge 0.000s |display 0.007s |\n",
            "frame 157 |tot 0.068s |load 0.000s |pre 0.019s |net 0.041s |dec 0.002s |post 0.005s |merge 0.000s |display 0.008s |\n",
            "frame 158 |tot 0.067s |load 0.000s |pre 0.019s |net 0.041s |dec 0.002s |post 0.004s |merge 0.000s |display 0.007s |\n",
            "frame 159 |tot 0.067s |load 0.000s |pre 0.020s |net 0.041s |dec 0.002s |post 0.004s |merge 0.000s |display 0.009s |\n",
            "frame 160 |tot 0.068s |load 0.000s |pre 0.020s |net 0.041s |dec 0.002s |post 0.005s |merge 0.000s |display 0.008s |\n",
            "frame 161 |tot 0.074s |load 0.000s |pre 0.025s |net 0.041s |dec 0.002s |post 0.005s |merge 0.000s |display 0.008s |\n",
            "frame 162 |tot 0.067s |load 0.000s |pre 0.020s |net 0.041s |dec 0.002s |post 0.005s |merge 0.000s |display 0.009s |\n",
            "frame 163 |tot 0.068s |load 0.000s |pre 0.020s |net 0.041s |dec 0.002s |post 0.005s |merge 0.000s |display 0.008s |\n",
            "frame 164 |tot 0.072s |load 0.000s |pre 0.019s |net 0.042s |dec 0.003s |post 0.007s |merge 0.000s |display 0.009s |\n",
            "frame 165 |tot 0.071s |load 0.000s |pre 0.021s |net 0.041s |dec 0.002s |post 0.005s |merge 0.000s |display 0.010s |\n",
            "frame 166 |tot 0.072s |load 0.000s |pre 0.023s |net 0.042s |dec 0.002s |post 0.005s |merge 0.000s |display 0.008s |\n",
            "frame 167 |tot 0.068s |load 0.000s |pre 0.019s |net 0.042s |dec 0.002s |post 0.005s |merge 0.000s |display 0.007s |\n",
            "frame 168 |tot 0.069s |load 0.000s |pre 0.020s |net 0.042s |dec 0.002s |post 0.005s |merge 0.000s |display 0.008s |\n",
            "frame 169 |tot 0.070s |load 0.000s |pre 0.022s |net 0.042s |dec 0.002s |post 0.004s |merge 0.000s |display 0.008s |\n",
            "frame 170 |tot 0.068s |load 0.000s |pre 0.020s |net 0.042s |dec 0.002s |post 0.004s |merge 0.000s |display 0.008s |\n",
            "frame 171 |tot 0.068s |load 0.000s |pre 0.021s |net 0.042s |dec 0.002s |post 0.003s |merge 0.000s |display 0.008s |\n",
            "frame 172 |tot 0.067s |load 0.000s |pre 0.020s |net 0.041s |dec 0.002s |post 0.003s |merge 0.000s |display 0.008s |\n",
            "frame 173 |tot 0.067s |load 0.000s |pre 0.021s |net 0.041s |dec 0.002s |post 0.004s |merge 0.000s |display 0.008s |\n",
            "frame 174 |tot 0.071s |load 0.000s |pre 0.021s |net 0.041s |dec 0.003s |post 0.006s |merge 0.000s |display 0.009s |\n",
            "frame 175 |tot 0.066s |load 0.000s |pre 0.019s |net 0.041s |dec 0.002s |post 0.004s |merge 0.000s |display 0.009s |\n",
            "frame 176 |tot 0.067s |load 0.000s |pre 0.019s |net 0.041s |dec 0.002s |post 0.004s |merge 0.000s |display 0.008s |\n",
            "frame 177 |tot 0.070s |load 0.000s |pre 0.023s |net 0.041s |dec 0.002s |post 0.004s |merge 0.000s |display 0.007s |\n",
            "frame 178 |tot 0.067s |load 0.000s |pre 0.020s |net 0.041s |dec 0.002s |post 0.004s |merge 0.000s |display 0.008s |\n",
            "frame 179 |tot 0.066s |load 0.000s |pre 0.019s |net 0.041s |dec 0.002s |post 0.004s |merge 0.000s |display 0.008s |\n",
            "frame 180 |tot 0.065s |load 0.000s |pre 0.019s |net 0.041s |dec 0.002s |post 0.003s |merge 0.000s |display 0.008s |\n",
            "frame 181 |tot 0.064s |load 0.000s |pre 0.019s |net 0.040s |dec 0.002s |post 0.003s |merge 0.000s |display 0.007s |\n",
            "frame 182 |tot 0.065s |load 0.000s |pre 0.020s |net 0.041s |dec 0.002s |post 0.003s |merge 0.000s |display 0.007s |\n",
            "frame 183 |tot 0.065s |load 0.000s |pre 0.019s |net 0.041s |dec 0.002s |post 0.003s |merge 0.000s |display 0.007s |\n",
            "frame 184 |tot 0.065s |load 0.000s |pre 0.019s |net 0.041s |dec 0.002s |post 0.003s |merge 0.000s |display 0.008s |\n",
            "frame 185 |tot 0.066s |load 0.000s |pre 0.020s |net 0.041s |dec 0.002s |post 0.003s |merge 0.000s |display 0.007s |\n",
            "frame 186 |tot 0.069s |load 0.000s |pre 0.022s |net 0.041s |dec 0.002s |post 0.004s |merge 0.000s |display 0.007s |\n",
            "frame 187 |tot 0.066s |load 0.000s |pre 0.019s |net 0.041s |dec 0.002s |post 0.003s |merge 0.000s |display 0.007s |\n",
            "frame 188 |tot 0.065s |load 0.000s |pre 0.019s |net 0.041s |dec 0.002s |post 0.003s |merge 0.000s |display 0.007s |\n",
            "frame 189 |tot 0.065s |load 0.000s |pre 0.019s |net 0.041s |dec 0.002s |post 0.003s |merge 0.000s |display 0.007s |\n",
            "frame 190 |tot 0.067s |load 0.000s |pre 0.020s |net 0.041s |dec 0.002s |post 0.003s |merge 0.000s |display 0.007s |\n",
            "frame 191 |tot 0.066s |load 0.000s |pre 0.020s |net 0.041s |dec 0.002s |post 0.003s |merge 0.000s |display 0.008s |\n",
            "frame 192 |tot 0.067s |load 0.000s |pre 0.020s |net 0.042s |dec 0.002s |post 0.003s |merge 0.000s |display 0.007s |\n",
            "frame 193 |tot 0.066s |load 0.000s |pre 0.019s |net 0.041s |dec 0.002s |post 0.003s |merge 0.000s |display 0.007s |\n",
            "frame 194 |tot 0.120s |load 0.000s |pre 0.022s |net 0.042s |dec 0.002s |post 0.003s |merge 0.000s |display 0.061s |\n",
            "frame 195 |tot 0.068s |load 0.000s |pre 0.021s |net 0.042s |dec 0.002s |post 0.003s |merge 0.000s |display 0.008s |\n",
            "frame 196 |tot 0.067s |load 0.000s |pre 0.019s |net 0.042s |dec 0.002s |post 0.004s |merge 0.000s |display 0.008s |\n",
            "frame 197 |tot 0.066s |load 0.000s |pre 0.020s |net 0.041s |dec 0.002s |post 0.003s |merge 0.000s |display 0.008s |\n",
            "frame 198 |tot 0.066s |load 0.000s |pre 0.020s |net 0.041s |dec 0.002s |post 0.003s |merge 0.000s |display 0.008s |\n",
            "frame 199 |tot 0.065s |load 0.000s |pre 0.019s |net 0.041s |dec 0.002s |post 0.003s |merge 0.000s |display 0.008s |\n",
            "frame 200 |tot 0.064s |load 0.000s |pre 0.019s |net 0.041s |dec 0.002s |post 0.003s |merge 0.000s |display 0.008s |\n",
            "frame 201 |tot 0.067s |load 0.000s |pre 0.021s |net 0.041s |dec 0.002s |post 0.004s |merge 0.000s |display 0.008s |\n",
            "frame 202 |tot 0.066s |load 0.000s |pre 0.020s |net 0.041s |dec 0.002s |post 0.003s |merge 0.000s |display 0.008s |\n",
            "frame 203 |tot 0.066s |load 0.000s |pre 0.019s |net 0.041s |dec 0.002s |post 0.003s |merge 0.000s |display 0.007s |\n",
            "frame 204 |tot 0.068s |load 0.000s |pre 0.022s |net 0.041s |dec 0.002s |post 0.003s |merge 0.000s |display 0.007s |\n",
            "frame 205 |tot 0.067s |load 0.000s |pre 0.020s |net 0.042s |dec 0.002s |post 0.004s |merge 0.000s |display 0.008s |\n",
            "frame 206 |tot 0.069s |load 0.000s |pre 0.020s |net 0.042s |dec 0.002s |post 0.004s |merge 0.000s |display 0.008s |\n",
            "frame 207 |tot 0.069s |load 0.000s |pre 0.022s |net 0.042s |dec 0.002s |post 0.003s |merge 0.000s |display 0.007s |\n",
            "frame 208 |tot 0.066s |load 0.000s |pre 0.019s |net 0.042s |dec 0.002s |post 0.004s |merge 0.000s |display 0.008s |\n",
            "frame 209 |tot 0.066s |load 0.000s |pre 0.019s |net 0.041s |dec 0.002s |post 0.004s |merge 0.000s |display 0.007s |\n",
            "frame 210 |tot 0.069s |load 0.000s |pre 0.022s |net 0.041s |dec 0.002s |post 0.004s |merge 0.000s |display 0.007s |\n",
            "frame 211 |tot 0.068s |load 0.000s |pre 0.021s |net 0.041s |dec 0.002s |post 0.004s |merge 0.000s |display 0.008s |\n",
            "frame 212 |tot 0.066s |load 0.000s |pre 0.020s |net 0.041s |dec 0.002s |post 0.004s |merge 0.000s |display 0.008s |\n",
            "frame 213 |tot 0.069s |load 0.000s |pre 0.022s |net 0.041s |dec 0.002s |post 0.003s |merge 0.000s |display 0.007s |\n",
            "frame 214 |tot 0.067s |load 0.000s |pre 0.020s |net 0.041s |dec 0.002s |post 0.004s |merge 0.000s |display 0.007s |\n",
            "frame 215 |tot 0.069s |load 0.000s |pre 0.021s |net 0.041s |dec 0.002s |post 0.004s |merge 0.000s |display 0.009s |\n",
            "frame 216 |tot 0.068s |load 0.000s |pre 0.022s |net 0.040s |dec 0.002s |post 0.003s |merge 0.000s |display 0.008s |\n",
            "frame 217 |tot 0.067s |load 0.000s |pre 0.020s |net 0.040s |dec 0.002s |post 0.004s |merge 0.000s |display 0.009s |\n",
            "frame 218 |tot 0.066s |load 0.000s |pre 0.019s |net 0.041s |dec 0.002s |post 0.004s |merge 0.000s |display 0.009s |\n",
            "frame 219 |tot 0.067s |load 0.000s |pre 0.020s |net 0.041s |dec 0.002s |post 0.003s |merge 0.000s |display 0.009s |\n",
            "frame 220 |tot 0.068s |load 0.000s |pre 0.020s |net 0.041s |dec 0.002s |post 0.004s |merge 0.000s |display 0.009s |\n",
            "frame 221 |tot 0.068s |load 0.000s |pre 0.021s |net 0.041s |dec 0.002s |post 0.003s |merge 0.000s |display 0.009s |\n",
            "frame 222 |tot 0.071s |load 0.000s |pre 0.023s |net 0.041s |dec 0.002s |post 0.004s |merge 0.000s |display 0.009s |\n",
            "frame 223 |tot 0.068s |load 0.000s |pre 0.021s |net 0.041s |dec 0.002s |post 0.003s |merge 0.000s |display 0.009s |\n",
            "frame 224 |tot 0.071s |load 0.000s |pre 0.023s |net 0.042s |dec 0.002s |post 0.004s |merge 0.000s |display 0.009s |\n",
            "frame 225 |tot 0.068s |load 0.000s |pre 0.020s |net 0.042s |dec 0.002s |post 0.004s |merge 0.000s |display 0.008s |\n",
            "frame 226 |tot 0.068s |load 0.000s |pre 0.020s |net 0.041s |dec 0.002s |post 0.004s |merge 0.000s |display 0.009s |\n",
            "frame 227 |tot 0.072s |load 0.000s |pre 0.025s |net 0.042s |dec 0.002s |post 0.004s |merge 0.000s |display 0.009s |\n",
            "frame 228 |tot 0.069s |load 0.000s |pre 0.021s |net 0.042s |dec 0.002s |post 0.004s |merge 0.000s |display 0.010s |\n",
            "frame 229 |tot 0.069s |load 0.000s |pre 0.022s |net 0.042s |dec 0.002s |post 0.004s |merge 0.000s |display 0.009s |\n",
            "frame 230 |tot 0.073s |load 0.000s |pre 0.025s |net 0.042s |dec 0.002s |post 0.004s |merge 0.000s |display 0.009s |\n",
            "frame 231 |tot 0.068s |load 0.000s |pre 0.021s |net 0.041s |dec 0.002s |post 0.004s |merge 0.000s |display 0.009s |\n",
            "frame 232 |tot 0.070s |load 0.000s |pre 0.022s |net 0.042s |dec 0.002s |post 0.003s |merge 0.000s |display 0.009s |\n",
            "frame 233 |tot 0.067s |load 0.000s |pre 0.020s |net 0.042s |dec 0.002s |post 0.004s |merge 0.000s |display 0.009s |\n",
            "frame 234 |tot 0.068s |load 0.000s |pre 0.021s |net 0.042s |dec 0.002s |post 0.003s |merge 0.000s |display 0.008s |\n",
            "frame 235 |tot 0.072s |load 0.000s |pre 0.025s |net 0.042s |dec 0.002s |post 0.003s |merge 0.000s |display 0.009s |\n",
            "frame 236 |tot 0.068s |load 0.000s |pre 0.020s |net 0.042s |dec 0.002s |post 0.004s |merge 0.000s |display 0.009s |\n",
            "frame 237 |tot 0.068s |load 0.000s |pre 0.020s |net 0.042s |dec 0.002s |post 0.004s |merge 0.000s |display 0.009s |\n",
            "frame 238 |tot 0.069s |load 0.000s |pre 0.021s |net 0.042s |dec 0.002s |post 0.003s |merge 0.000s |display 0.010s |\n",
            "frame 239 |tot 0.068s |load 0.000s |pre 0.020s |net 0.042s |dec 0.002s |post 0.003s |merge 0.000s |display 0.010s |\n",
            "frame 240 |tot 0.067s |load 0.000s |pre 0.020s |net 0.042s |dec 0.002s |post 0.004s |merge 0.000s |display 0.010s |\n",
            "frame 241 |tot 0.070s |load 0.000s |pre 0.021s |net 0.042s |dec 0.002s |post 0.005s |merge 0.000s |display 0.014s |\n",
            "frame 242 |tot 0.070s |load 0.000s |pre 0.022s |net 0.042s |dec 0.002s |post 0.004s |merge 0.000s |display 0.009s |\n",
            "frame 243 |tot 0.069s |load 0.000s |pre 0.021s |net 0.042s |dec 0.002s |post 0.004s |merge 0.000s |display 0.009s |\n",
            "frame 244 |tot 0.070s |load 0.000s |pre 0.020s |net 0.042s |dec 0.002s |post 0.006s |merge 0.000s |display 0.011s |\n",
            "frame 245 |tot 0.073s |load 0.000s |pre 0.025s |net 0.042s |dec 0.002s |post 0.004s |merge 0.000s |display 0.010s |\n",
            "frame 246 |tot 0.068s |load 0.000s |pre 0.021s |net 0.042s |dec 0.002s |post 0.004s |merge 0.000s |display 0.010s |\n",
            "frame 247 |tot 0.068s |load 0.000s |pre 0.020s |net 0.042s |dec 0.002s |post 0.004s |merge 0.000s |display 0.009s |\n",
            "frame 248 |tot 0.073s |load 0.000s |pre 0.020s |net 0.042s |dec 0.003s |post 0.007s |merge 0.000s |display 0.015s |\n",
            "frame 249 |tot 0.068s |load 0.000s |pre 0.020s |net 0.041s |dec 0.002s |post 0.004s |merge 0.000s |display 0.012s |\n",
            "frame 250 |tot 0.068s |load 0.000s |pre 0.020s |net 0.042s |dec 0.002s |post 0.004s |merge 0.000s |display 0.010s |\n",
            "frame 251 |tot 0.069s |load 0.000s |pre 0.021s |net 0.042s |dec 0.002s |post 0.004s |merge 0.000s |display 0.011s |\n",
            "frame 252 |tot 0.070s |load 0.000s |pre 0.022s |net 0.042s |dec 0.002s |post 0.004s |merge 0.000s |display 0.010s |\n",
            "frame 253 |tot 0.069s |load 0.000s |pre 0.022s |net 0.042s |dec 0.002s |post 0.003s |merge 0.000s |display 0.010s |\n",
            "frame 254 |tot 0.067s |load 0.000s |pre 0.020s |net 0.042s |dec 0.002s |post 0.004s |merge 0.000s |display 0.009s |\n",
            "frame 255 |tot 0.068s |load 0.000s |pre 0.020s |net 0.042s |dec 0.002s |post 0.004s |merge 0.000s |display 0.010s |\n",
            "frame 256 |tot 0.068s |load 0.000s |pre 0.020s |net 0.042s |dec 0.002s |post 0.004s |merge 0.000s |display 0.009s |\n",
            "frame 257 |tot 0.071s |load 0.000s |pre 0.023s |net 0.042s |dec 0.002s |post 0.004s |merge 0.000s |display 0.009s |\n",
            "frame 258 |tot 0.067s |load 0.000s |pre 0.020s |net 0.042s |dec 0.002s |post 0.003s |merge 0.000s |display 0.008s |\n",
            "frame 259 |tot 0.067s |load 0.000s |pre 0.020s |net 0.041s |dec 0.002s |post 0.004s |merge 0.000s |display 0.009s |\n",
            "frame 260 |tot 0.067s |load 0.000s |pre 0.020s |net 0.042s |dec 0.002s |post 0.003s |merge 0.000s |display 0.008s |\n",
            "frame 261 |tot 0.070s |load 0.000s |pre 0.022s |net 0.042s |dec 0.002s |post 0.003s |merge 0.000s |display 0.008s |\n",
            "frame 262 |tot 0.068s |load 0.000s |pre 0.020s |net 0.042s |dec 0.002s |post 0.004s |merge 0.000s |display 0.009s |\n",
            "frame 263 |tot 0.070s |load 0.000s |pre 0.020s |net 0.041s |dec 0.002s |post 0.005s |merge 0.000s |display 0.009s |\n",
            "frame 264 |tot 0.069s |load 0.000s |pre 0.022s |net 0.042s |dec 0.002s |post 0.003s |merge 0.000s |display 0.008s |\n",
            "frame 265 |tot 0.069s |load 0.000s |pre 0.022s |net 0.042s |dec 0.002s |post 0.003s |merge 0.000s |display 0.008s |\n",
            "frame 266 |tot 0.068s |load 0.000s |pre 0.021s |net 0.042s |dec 0.002s |post 0.003s |merge 0.000s |display 0.008s |\n",
            "frame 267 |tot 0.068s |load 0.000s |pre 0.021s |net 0.041s |dec 0.002s |post 0.003s |merge 0.000s |display 0.009s |\n",
            "frame 268 |tot 0.070s |load 0.000s |pre 0.023s |net 0.041s |dec 0.002s |post 0.003s |merge 0.000s |display 0.008s |\n",
            "frame 269 |tot 0.068s |load 0.000s |pre 0.020s |net 0.043s |dec 0.002s |post 0.003s |merge 0.000s |display 0.009s |\n",
            "frame 270 |tot 0.067s |load 0.000s |pre 0.020s |net 0.041s |dec 0.002s |post 0.004s |merge 0.000s |display 0.008s |\n",
            "frame 271 |tot 0.070s |load 0.000s |pre 0.023s |net 0.040s |dec 0.002s |post 0.004s |merge 0.000s |display 0.009s |\n",
            "frame 272 |tot 0.069s |load 0.000s |pre 0.022s |net 0.040s |dec 0.002s |post 0.004s |merge 0.000s |display 0.009s |\n",
            "frame 273 |tot 0.074s |load 0.000s |pre 0.024s |net 0.043s |dec 0.002s |post 0.004s |merge 0.000s |display 0.009s |\n",
            "frame 274 |tot 0.071s |load 0.000s |pre 0.022s |net 0.041s |dec 0.002s |post 0.006s |merge 0.000s |display 0.014s |\n",
            "frame 275 |tot 0.068s |load 0.000s |pre 0.022s |net 0.040s |dec 0.002s |post 0.004s |merge 0.000s |display 0.009s |\n",
            "frame 276 |tot 0.067s |load 0.000s |pre 0.020s |net 0.040s |dec 0.002s |post 0.004s |merge 0.000s |display 0.008s |\n",
            "frame 277 |tot 0.068s |load 0.000s |pre 0.021s |net 0.041s |dec 0.002s |post 0.003s |merge 0.000s |display 0.009s |\n",
            "frame 278 |tot 0.067s |load 0.000s |pre 0.020s |net 0.041s |dec 0.002s |post 0.003s |merge 0.000s |display 0.008s |\n",
            "frame 279 |tot 0.067s |load 0.000s |pre 0.019s |net 0.041s |dec 0.002s |post 0.003s |merge 0.000s |display 0.010s |\n",
            "frame 280 |tot 0.067s |load 0.000s |pre 0.020s |net 0.041s |dec 0.002s |post 0.003s |merge 0.000s |display 0.009s |\n",
            "frame 281 |tot 0.066s |load 0.000s |pre 0.019s |net 0.041s |dec 0.002s |post 0.003s |merge 0.000s |display 0.008s |\n",
            "frame 282 |tot 0.066s |load 0.000s |pre 0.020s |net 0.041s |dec 0.002s |post 0.003s |merge 0.000s |display 0.008s |\n",
            "frame 283 |tot 0.066s |load 0.000s |pre 0.019s |net 0.041s |dec 0.002s |post 0.003s |merge 0.000s |display 0.008s |\n",
            "frame 284 |tot 0.070s |load 0.000s |pre 0.020s |net 0.042s |dec 0.002s |post 0.005s |merge 0.000s |display 0.013s |\n",
            "frame 285 |tot 0.067s |load 0.000s |pre 0.020s |net 0.042s |dec 0.002s |post 0.003s |merge 0.000s |display 0.009s |\n",
            "frame 286 |tot 0.067s |load 0.000s |pre 0.019s |net 0.042s |dec 0.002s |post 0.003s |merge 0.000s |display 0.010s |\n",
            "frame 287 |tot 0.067s |load 0.000s |pre 0.020s |net 0.042s |dec 0.002s |post 0.003s |merge 0.000s |display 0.009s |\n",
            "frame 288 |tot 0.071s |load 0.000s |pre 0.023s |net 0.042s |dec 0.002s |post 0.003s |merge 0.000s |display 0.013s |\n",
            "frame 289 |tot 0.069s |load 0.000s |pre 0.020s |net 0.042s |dec 0.002s |post 0.005s |merge 0.000s |display 0.009s |\n",
            "frame 290 |tot 0.071s |load 0.000s |pre 0.021s |net 0.042s |dec 0.002s |post 0.005s |merge 0.000s |display 0.010s |\n",
            "frame 291 |tot 0.070s |load 0.000s |pre 0.020s |net 0.042s |dec 0.003s |post 0.004s |merge 0.000s |display 0.009s |\n",
            "frame 292 |tot 0.067s |load 0.000s |pre 0.020s |net 0.042s |dec 0.002s |post 0.003s |merge 0.000s |display 0.009s |\n",
            "frame 293 |tot 0.068s |load 0.000s |pre 0.020s |net 0.042s |dec 0.002s |post 0.003s |merge 0.000s |display 0.009s |\n",
            "frame 294 |tot 0.071s |load 0.000s |pre 0.020s |net 0.042s |dec 0.003s |post 0.006s |merge 0.000s |display 0.014s |\n",
            "frame 295 |tot 0.068s |load 0.000s |pre 0.021s |net 0.041s |dec 0.002s |post 0.004s |merge 0.000s |display 0.009s |\n",
            "frame 296 |tot 0.069s |load 0.000s |pre 0.022s |net 0.041s |dec 0.002s |post 0.003s |merge 0.000s |display 0.009s |\n",
            "frame 297 |tot 0.067s |load 0.000s |pre 0.020s |net 0.041s |dec 0.002s |post 0.003s |merge 0.000s |display 0.009s |\n",
            "frame 298 |tot 0.067s |load 0.000s |pre 0.020s |net 0.041s |dec 0.002s |post 0.003s |merge 0.000s |display 0.008s |\n",
            "frame 299 |tot 0.067s |load 0.000s |pre 0.020s |net 0.041s |dec 0.002s |post 0.003s |merge 0.000s |display 0.010s |\n",
            "frame 300 |tot 0.071s |load 0.000s |pre 0.024s |net 0.040s |dec 0.002s |post 0.004s |merge 0.000s |display 0.009s |\n",
            "frame 301 |tot 0.067s |load 0.000s |pre 0.020s |net 0.041s |dec 0.002s |post 0.004s |merge 0.000s |display 0.009s |\n",
            "frame 302 |tot 0.066s |load 0.000s |pre 0.020s |net 0.041s |dec 0.002s |post 0.003s |merge 0.000s |display 0.009s |\n",
            "frame 303 |tot 0.067s |load 0.000s |pre 0.021s |net 0.041s |dec 0.002s |post 0.003s |merge 0.000s |display 0.009s |\n",
            "frame 304 |tot 0.068s |load 0.000s |pre 0.022s |net 0.041s |dec 0.002s |post 0.003s |merge 0.000s |display 0.012s |\n",
            "frame 305 |tot 0.067s |load 0.000s |pre 0.020s |net 0.041s |dec 0.002s |post 0.003s |merge 0.000s |display 0.010s |\n",
            "frame 306 |tot 0.067s |load 0.000s |pre 0.021s |net 0.041s |dec 0.002s |post 0.003s |merge 0.000s |display 0.009s |\n",
            "frame 307 |tot 0.067s |load 0.000s |pre 0.020s |net 0.041s |dec 0.002s |post 0.003s |merge 0.000s |display 0.009s |\n",
            "frame 308 |tot 0.067s |load 0.000s |pre 0.020s |net 0.042s |dec 0.002s |post 0.003s |merge 0.000s |display 0.009s |\n",
            "frame 309 |tot 0.069s |load 0.000s |pre 0.021s |net 0.042s |dec 0.002s |post 0.004s |merge 0.000s |display 0.009s |\n",
            "frame 310 |tot 0.068s |load 0.000s |pre 0.021s |net 0.042s |dec 0.002s |post 0.003s |merge 0.000s |display 0.009s |\n",
            "frame 311 |tot 0.069s |load 0.000s |pre 0.020s |net 0.042s |dec 0.002s |post 0.003s |merge 0.000s |display 0.009s |\n",
            "frame 312 |tot 0.070s |load 0.000s |pre 0.022s |net 0.042s |dec 0.002s |post 0.004s |merge 0.000s |display 0.010s |\n",
            "frame 313 |tot 0.069s |load 0.000s |pre 0.021s |net 0.042s |dec 0.002s |post 0.003s |merge 0.000s |display 0.010s |\n",
            "frame 314 |tot 0.074s |load 0.000s |pre 0.021s |net 0.042s |dec 0.003s |post 0.007s |merge 0.000s |display 0.011s |\n",
            "frame 315 |tot 0.073s |load 0.000s |pre 0.025s |net 0.042s |dec 0.002s |post 0.003s |merge 0.000s |display 0.009s |\n",
            "frame 316 |tot 0.070s |load 0.000s |pre 0.022s |net 0.042s |dec 0.002s |post 0.003s |merge 0.000s |display 0.009s |\n",
            "frame 317 |tot 0.069s |load 0.000s |pre 0.021s |net 0.042s |dec 0.002s |post 0.003s |merge 0.000s |display 0.009s |\n",
            "frame 318 |tot 0.071s |load 0.000s |pre 0.023s |net 0.042s |dec 0.002s |post 0.003s |merge 0.000s |display 0.009s |\n",
            "frame 319 |tot 0.068s |load 0.000s |pre 0.020s |net 0.042s |dec 0.002s |post 0.004s |merge 0.000s |display 0.008s |\n",
            "frame 320 |tot 0.068s |load 0.000s |pre 0.020s |net 0.042s |dec 0.002s |post 0.004s |merge 0.000s |display 0.008s |\n",
            "frame 321 |tot 0.068s |load 0.000s |pre 0.020s |net 0.042s |dec 0.002s |post 0.003s |merge 0.000s |display 0.008s |\n",
            "frame 322 |tot 0.067s |load 0.000s |pre 0.019s |net 0.042s |dec 0.002s |post 0.004s |merge 0.000s |display 0.011s |\n",
            "frame 323 |tot 0.067s |load 0.000s |pre 0.019s |net 0.042s |dec 0.002s |post 0.004s |merge 0.000s |display 0.008s |\n",
            "frame 324 |tot 0.070s |load 0.000s |pre 0.021s |net 0.042s |dec 0.002s |post 0.004s |merge 0.000s |display 0.008s |\n",
            "frame 325 |tot 0.074s |load 0.000s |pre 0.025s |net 0.042s |dec 0.002s |post 0.004s |merge 0.000s |display 0.008s |\n",
            "frame 326 |tot 0.067s |load 0.000s |pre 0.020s |net 0.042s |dec 0.002s |post 0.004s |merge 0.000s |display 0.008s |\n",
            "frame 327 |tot 0.067s |load 0.000s |pre 0.019s |net 0.042s |dec 0.002s |post 0.003s |merge 0.000s |display 0.008s |\n",
            "frame 328 |tot 0.067s |load 0.000s |pre 0.019s |net 0.042s |dec 0.002s |post 0.003s |merge 0.000s |display 0.009s |\n",
            "frame 329 |tot 0.067s |load 0.000s |pre 0.019s |net 0.042s |dec 0.002s |post 0.003s |merge 0.000s |display 0.007s |\n",
            "frame 330 |tot 0.067s |load 0.000s |pre 0.020s |net 0.042s |dec 0.002s |post 0.003s |merge 0.000s |display 0.009s |\n",
            "frame 331 |tot 0.067s |load 0.000s |pre 0.020s |net 0.042s |dec 0.002s |post 0.003s |merge 0.000s |display 0.009s |\n",
            "frame 332 |tot 0.066s |load 0.000s |pre 0.019s |net 0.042s |dec 0.002s |post 0.003s |merge 0.000s |display 0.008s |\n",
            "frame 333 |tot 0.066s |load 0.000s |pre 0.019s |net 0.042s |dec 0.002s |post 0.003s |merge 0.000s |display 0.008s |\n",
            "frame 334 |tot 0.070s |load 0.000s |pre 0.019s |net 0.042s |dec 0.002s |post 0.006s |merge 0.000s |display 0.011s |\n",
            "frame 335 |tot 0.066s |load 0.000s |pre 0.019s |net 0.042s |dec 0.002s |post 0.003s |merge 0.000s |display 0.008s |\n",
            "frame 336 |tot 0.069s |load 0.000s |pre 0.022s |net 0.042s |dec 0.002s |post 0.004s |merge 0.000s |display 0.008s |\n",
            "frame 337 |tot 0.067s |load 0.000s |pre 0.019s |net 0.042s |dec 0.002s |post 0.004s |merge 0.000s |display 0.010s |\n",
            "frame 338 |tot 0.079s |load 0.000s |pre 0.027s |net 0.042s |dec 0.003s |post 0.007s |merge 0.000s |display 0.011s |\n",
            "frame 339 |tot 0.067s |load 0.000s |pre 0.019s |net 0.041s |dec 0.002s |post 0.004s |merge 0.000s |display 0.008s |\n",
            "frame 340 |tot 0.068s |load 0.000s |pre 0.020s |net 0.042s |dec 0.002s |post 0.004s |merge 0.000s |display 0.008s |\n",
            "frame 341 |tot 0.068s |load 0.000s |pre 0.020s |net 0.042s |dec 0.002s |post 0.004s |merge 0.000s |display 0.008s |\n",
            "frame 342 |tot 0.068s |load 0.000s |pre 0.020s |net 0.042s |dec 0.002s |post 0.004s |merge 0.000s |display 0.008s |\n",
            "frame 343 |tot 0.067s |load 0.000s |pre 0.019s |net 0.042s |dec 0.002s |post 0.004s |merge 0.000s |display 0.008s |\n",
            "frame 344 |tot 0.072s |load 0.000s |pre 0.020s |net 0.042s |dec 0.003s |post 0.007s |merge 0.000s |display 0.009s |\n",
            "frame 345 |tot 0.068s |load 0.000s |pre 0.020s |net 0.042s |dec 0.002s |post 0.004s |merge 0.000s |display 0.009s |\n",
            "frame 346 |tot 0.067s |load 0.000s |pre 0.019s |net 0.042s |dec 0.002s |post 0.004s |merge 0.000s |display 0.008s |\n",
            "frame 347 |tot 0.067s |load 0.000s |pre 0.019s |net 0.042s |dec 0.002s |post 0.004s |merge 0.000s |display 0.007s |\n",
            "frame 348 |tot 0.078s |load 0.000s |pre 0.025s |net 0.042s |dec 0.003s |post 0.007s |merge 0.000s |display 0.012s |\n",
            "frame 349 |tot 0.069s |load 0.000s |pre 0.021s |net 0.042s |dec 0.002s |post 0.004s |merge 0.000s |display 0.008s |\n",
            "frame 350 |tot 0.067s |load 0.000s |pre 0.019s |net 0.042s |dec 0.002s |post 0.004s |merge 0.000s |display 0.008s |\n",
            "frame 351 |tot 0.067s |load 0.000s |pre 0.019s |net 0.042s |dec 0.002s |post 0.004s |merge 0.000s |display 0.009s |\n",
            "frame 352 |tot 0.068s |load 0.000s |pre 0.020s |net 0.041s |dec 0.002s |post 0.004s |merge 0.000s |display 0.007s |\n",
            "frame 353 |tot 0.066s |load 0.000s |pre 0.019s |net 0.042s |dec 0.002s |post 0.003s |merge 0.000s |display 0.008s |\n",
            "frame 354 |tot 0.071s |load 0.000s |pre 0.020s |net 0.042s |dec 0.003s |post 0.005s |merge 0.000s |display 0.011s |\n",
            "frame 355 |tot 0.068s |load 0.000s |pre 0.020s |net 0.042s |dec 0.002s |post 0.004s |merge 0.000s |display 0.008s |\n",
            "frame 356 |tot 0.069s |load 0.000s |pre 0.021s |net 0.042s |dec 0.002s |post 0.004s |merge 0.000s |display 0.008s |\n",
            "frame 357 |tot 0.069s |load 0.000s |pre 0.020s |net 0.042s |dec 0.002s |post 0.005s |merge 0.000s |display 0.009s |\n",
            "frame 358 |tot 0.069s |load 0.000s |pre 0.020s |net 0.042s |dec 0.002s |post 0.004s |merge 0.000s |display 0.009s |\n",
            "frame 359 |tot 0.069s |load 0.000s |pre 0.021s |net 0.042s |dec 0.002s |post 0.003s |merge 0.000s |display 0.008s |\n",
            "frame 360 |tot 0.073s |load 0.000s |pre 0.023s |net 0.042s |dec 0.002s |post 0.005s |merge 0.000s |display 0.008s |\n",
            "frame 361 |tot 0.068s |load 0.000s |pre 0.020s |net 0.042s |dec 0.002s |post 0.004s |merge 0.000s |display 0.008s |\n",
            "frame 362 |tot 0.069s |load 0.000s |pre 0.020s |net 0.042s |dec 0.002s |post 0.004s |merge 0.000s |display 0.008s |\n",
            "frame 363 |tot 0.071s |load 0.000s |pre 0.019s |net 0.042s |dec 0.003s |post 0.006s |merge 0.000s |display 0.010s |\n",
            "frame 364 |tot 0.067s |load 0.000s |pre 0.019s |net 0.042s |dec 0.002s |post 0.004s |merge 0.000s |display 0.011s |\n",
            "frame 365 |tot 0.068s |load 0.000s |pre 0.020s |net 0.042s |dec 0.002s |post 0.004s |merge 0.000s |display 0.008s |\n",
            "frame 366 |tot 0.070s |load 0.000s |pre 0.022s |net 0.042s |dec 0.002s |post 0.004s |merge 0.000s |display 0.009s |\n",
            "frame 367 |tot 0.072s |load 0.000s |pre 0.024s |net 0.042s |dec 0.002s |post 0.003s |merge 0.000s |display 0.008s |\n",
            "frame 368 |tot 0.070s |load 0.000s |pre 0.021s |net 0.042s |dec 0.002s |post 0.004s |merge 0.000s |display 0.008s |\n",
            "frame 369 |tot 0.067s |load 0.000s |pre 0.020s |net 0.042s |dec 0.002s |post 0.003s |merge 0.000s |display 0.008s |\n",
            "frame 370 |tot 0.067s |load 0.000s |pre 0.019s |net 0.042s |dec 0.002s |post 0.004s |merge 0.000s |display 0.008s |\n",
            "frame 371 |tot 0.067s |load 0.000s |pre 0.019s |net 0.042s |dec 0.002s |post 0.004s |merge 0.000s |display 0.009s |\n",
            "frame 372 |tot 0.068s |load 0.000s |pre 0.020s |net 0.042s |dec 0.002s |post 0.004s |merge 0.000s |display 0.008s |\n",
            "frame 373 |tot 0.067s |load 0.000s |pre 0.020s |net 0.042s |dec 0.002s |post 0.003s |merge 0.000s |display 0.008s |\n",
            "frame 374 |tot 0.066s |load 0.000s |pre 0.019s |net 0.042s |dec 0.002s |post 0.003s |merge 0.000s |display 0.008s |\n",
            "frame 375 |tot 0.068s |load 0.000s |pre 0.020s |net 0.042s |dec 0.002s |post 0.003s |merge 0.000s |display 0.008s |\n",
            "frame 376 |tot 0.069s |load 0.000s |pre 0.022s |net 0.042s |dec 0.002s |post 0.003s |merge 0.000s |display 0.008s |\n",
            "frame 377 |tot 0.066s |load 0.000s |pre 0.019s |net 0.041s |dec 0.002s |post 0.003s |merge 0.000s |display 0.008s |\n",
            "frame 378 |tot 0.067s |load 0.000s |pre 0.020s |net 0.041s |dec 0.002s |post 0.003s |merge 0.000s |display 0.008s |\n",
            "frame 379 |tot 0.067s |load 0.000s |pre 0.020s |net 0.041s |dec 0.002s |post 0.003s |merge 0.000s |display 0.008s |\n",
            "frame 380 |tot 0.068s |load 0.000s |pre 0.020s |net 0.042s |dec 0.002s |post 0.004s |merge 0.000s |display 0.008s |\n",
            "frame 381 |tot 0.067s |load 0.000s |pre 0.019s |net 0.042s |dec 0.002s |post 0.003s |merge 0.000s |display 0.008s |\n",
            "frame 382 |tot 0.066s |load 0.000s |pre 0.019s |net 0.042s |dec 0.002s |post 0.003s |merge 0.000s |display 0.008s |\n",
            "frame 383 |tot 0.067s |load 0.000s |pre 0.019s |net 0.042s |dec 0.002s |post 0.004s |merge 0.000s |display 0.008s |\n",
            "frame 384 |tot 0.069s |load 0.000s |pre 0.021s |net 0.041s |dec 0.002s |post 0.004s |merge 0.000s |display 0.008s |\n",
            "frame 385 |tot 0.074s |load 0.000s |pre 0.027s |net 0.042s |dec 0.002s |post 0.003s |merge 0.000s |display 0.007s |\n",
            "frame 386 |tot 0.067s |load 0.000s |pre 0.019s |net 0.042s |dec 0.002s |post 0.004s |merge 0.000s |display 0.007s |\n",
            "frame 387 |tot 0.068s |load 0.000s |pre 0.019s |net 0.041s |dec 0.003s |post 0.004s |merge 0.000s |display 0.008s |\n",
            "frame 388 |tot 0.069s |load 0.000s |pre 0.019s |net 0.041s |dec 0.003s |post 0.005s |merge 0.000s |display 0.009s |\n",
            "frame 389 |tot 0.068s |load 0.000s |pre 0.021s |net 0.041s |dec 0.002s |post 0.004s |merge 0.000s |display 0.008s |\n",
            "frame 390 |tot 0.070s |load 0.000s |pre 0.022s |net 0.041s |dec 0.002s |post 0.004s |merge 0.000s |display 0.008s |\n",
            "frame 391 |tot 0.067s |load 0.000s |pre 0.020s |net 0.041s |dec 0.002s |post 0.003s |merge 0.000s |display 0.007s |\n",
            "frame 392 |tot 0.065s |load 0.000s |pre 0.019s |net 0.041s |dec 0.002s |post 0.003s |merge 0.000s |display 0.007s |\n",
            "frame 393 |tot 0.066s |load 0.000s |pre 0.019s |net 0.041s |dec 0.002s |post 0.004s |merge 0.000s |display 0.008s |\n",
            "frame 394 |tot 0.066s |load 0.000s |pre 0.020s |net 0.041s |dec 0.002s |post 0.003s |merge 0.000s |display 0.008s |\n",
            "frame 395 |tot 0.065s |load 0.000s |pre 0.020s |net 0.041s |dec 0.002s |post 0.003s |merge 0.000s |display 0.007s |\n",
            "frame 396 |tot 0.070s |load 0.000s |pre 0.021s |net 0.041s |dec 0.002s |post 0.005s |merge 0.000s |display 0.008s |\n",
            "frame 397 |tot 0.067s |load 0.000s |pre 0.019s |net 0.041s |dec 0.002s |post 0.004s |merge 0.000s |display 0.007s |\n",
            "frame 398 |tot 0.067s |load 0.000s |pre 0.020s |net 0.041s |dec 0.002s |post 0.004s |merge 0.000s |display 0.008s |\n",
            "frame 399 |tot 0.065s |load 0.000s |pre 0.019s |net 0.041s |dec 0.002s |post 0.003s |merge 0.000s |display 0.010s |\n",
            "frame 400 |tot 0.066s |load 0.000s |pre 0.020s |net 0.041s |dec 0.002s |post 0.003s |merge 0.000s |display 0.008s |\n",
            "frame 401 |tot 0.066s |load 0.000s |pre 0.019s |net 0.041s |dec 0.002s |post 0.003s |merge 0.000s |display 0.010s |\n",
            "frame 402 |tot 0.066s |load 0.000s |pre 0.019s |net 0.041s |dec 0.002s |post 0.003s |merge 0.000s |display 0.008s |\n",
            "frame 403 |tot 0.066s |load 0.000s |pre 0.020s |net 0.040s |dec 0.002s |post 0.003s |merge 0.000s |display 0.008s |\n",
            "frame 404 |tot 0.065s |load 0.000s |pre 0.019s |net 0.040s |dec 0.002s |post 0.004s |merge 0.000s |display 0.008s |\n",
            "frame 405 |tot 0.072s |load 0.000s |pre 0.021s |net 0.041s |dec 0.003s |post 0.006s |merge 0.000s |display 0.008s |\n",
            "frame 406 |tot 0.065s |load 0.000s |pre 0.019s |net 0.041s |dec 0.002s |post 0.003s |merge 0.000s |display 0.007s |\n",
            "frame 407 |tot 0.068s |load 0.000s |pre 0.019s |net 0.042s |dec 0.002s |post 0.005s |merge 0.000s |display 0.008s |\n",
            "frame 408 |tot 0.068s |load 0.000s |pre 0.020s |net 0.042s |dec 0.002s |post 0.003s |merge 0.000s |display 0.008s |\n",
            "frame 409 |tot 0.066s |load 0.000s |pre 0.020s |net 0.041s |dec 0.002s |post 0.003s |merge 0.000s |display 0.008s |\n",
            "frame 410 |tot 0.064s |load 0.000s |pre 0.019s |net 0.041s |dec 0.002s |post 0.002s |merge 0.000s |display 0.008s |\n",
            "frame 411 |tot 0.066s |load 0.000s |pre 0.019s |net 0.042s |dec 0.002s |post 0.003s |merge 0.000s |display 0.009s |\n",
            "frame 412 |tot 0.066s |load 0.000s |pre 0.020s |net 0.041s |dec 0.002s |post 0.003s |merge 0.000s |display 0.007s |\n",
            "frame 413 |tot 0.066s |load 0.000s |pre 0.019s |net 0.042s |dec 0.002s |post 0.003s |merge 0.000s |display 0.007s |\n",
            "frame 414 |tot 0.066s |load 0.000s |pre 0.019s |net 0.042s |dec 0.002s |post 0.003s |merge 0.000s |display 0.008s |\n",
            "frame 415 |tot 0.067s |load 0.000s |pre 0.019s |net 0.042s |dec 0.002s |post 0.003s |merge 0.000s |display 0.008s |\n",
            "frame 416 |tot 0.067s |load 0.000s |pre 0.019s |net 0.042s |dec 0.002s |post 0.003s |merge 0.000s |display 0.008s |\n",
            "frame 417 |tot 0.066s |load 0.000s |pre 0.020s |net 0.042s |dec 0.002s |post 0.002s |merge 0.000s |display 0.008s |\n",
            "frame 418 |tot 0.066s |load 0.000s |pre 0.019s |net 0.042s |dec 0.002s |post 0.003s |merge 0.000s |display 0.008s |\n",
            "frame 419 |tot 0.070s |load 0.000s |pre 0.023s |net 0.042s |dec 0.002s |post 0.003s |merge 0.000s |display 0.007s |\n",
            "frame 420 |tot 0.066s |load 0.000s |pre 0.019s |net 0.042s |dec 0.002s |post 0.003s |merge 0.000s |display 0.007s |\n",
            "frame 421 |tot 0.068s |load 0.000s |pre 0.019s |net 0.042s |dec 0.002s |post 0.004s |merge 0.000s |display 0.008s |\n",
            "frame 422 |tot 0.066s |load 0.000s |pre 0.019s |net 0.042s |dec 0.002s |post 0.003s |merge 0.000s |display 0.008s |\n",
            "frame 423 |tot 0.068s |load 0.000s |pre 0.021s |net 0.042s |dec 0.002s |post 0.003s |merge 0.000s |display 0.008s |\n",
            "frame 424 |tot 0.066s |load 0.000s |pre 0.019s |net 0.042s |dec 0.002s |post 0.003s |merge 0.000s |display 0.009s |\n",
            "frame 425 |tot 0.066s |load 0.000s |pre 0.019s |net 0.042s |dec 0.002s |post 0.003s |merge 0.000s |display 0.008s |\n",
            "frame 426 |tot 0.070s |load 0.000s |pre 0.022s |net 0.042s |dec 0.002s |post 0.003s |merge 0.000s |display 0.008s |\n",
            "frame 427 |tot 0.066s |load 0.000s |pre 0.019s |net 0.042s |dec 0.002s |post 0.003s |merge 0.000s |display 0.009s |\n",
            "frame 428 |tot 0.068s |load 0.000s |pre 0.020s |net 0.042s |dec 0.002s |post 0.004s |merge 0.000s |display 0.009s |\n",
            "frame 429 |tot 0.069s |load 0.000s |pre 0.021s |net 0.042s |dec 0.002s |post 0.004s |merge 0.000s |display 0.012s |\n",
            "frame 430 |tot 0.069s |load 0.000s |pre 0.021s |net 0.042s |dec 0.002s |post 0.004s |merge 0.000s |display 0.009s |\n",
            "frame 431 |tot 0.067s |load 0.000s |pre 0.020s |net 0.042s |dec 0.002s |post 0.003s |merge 0.000s |display 0.009s |\n",
            "frame 432 |tot 0.070s |load 0.000s |pre 0.020s |net 0.042s |dec 0.002s |post 0.005s |merge 0.000s |display 0.009s |\n",
            "frame 433 |tot 0.068s |load 0.000s |pre 0.019s |net 0.043s |dec 0.002s |post 0.004s |merge 0.000s |display 0.009s |\n",
            "frame 434 |tot 0.067s |load 0.000s |pre 0.020s |net 0.042s |dec 0.002s |post 0.003s |merge 0.000s |display 0.008s |\n",
            "frame 435 |tot 0.069s |load 0.000s |pre 0.019s |net 0.041s |dec 0.002s |post 0.006s |merge 0.000s |display 0.008s |\n",
            "frame 436 |tot 0.067s |load 0.000s |pre 0.021s |net 0.041s |dec 0.002s |post 0.003s |merge 0.000s |display 0.009s |\n",
            "frame 437 |tot 0.067s |load 0.000s |pre 0.020s |net 0.042s |dec 0.002s |post 0.003s |merge 0.000s |display 0.008s |\n",
            "frame 438 |tot 0.067s |load 0.000s |pre 0.021s |net 0.041s |dec 0.002s |post 0.003s |merge 0.000s |display 0.007s |\n",
            "frame 439 |tot 0.068s |load 0.000s |pre 0.021s |net 0.041s |dec 0.002s |post 0.003s |merge 0.000s |display 0.007s |\n",
            "frame 440 |tot 0.065s |load 0.000s |pre 0.019s |net 0.041s |dec 0.002s |post 0.003s |merge 0.000s |display 0.007s |\n",
            "frame 441 |tot 0.069s |load 0.000s |pre 0.019s |net 0.042s |dec 0.002s |post 0.005s |merge 0.000s |display 0.007s |\n",
            "frame 442 |tot 0.068s |load 0.000s |pre 0.021s |net 0.042s |dec 0.002s |post 0.003s |merge 0.000s |display 0.008s |\n",
            "frame 443 |tot 0.066s |load 0.000s |pre 0.019s |net 0.042s |dec 0.002s |post 0.003s |merge 0.000s |display 0.008s |\n",
            "frame 444 |tot 0.070s |load 0.000s |pre 0.020s |net 0.042s |dec 0.002s |post 0.006s |merge 0.000s |display 0.008s |\n",
            "frame 445 |tot 0.068s |load 0.000s |pre 0.020s |net 0.042s |dec 0.002s |post 0.004s |merge 0.000s |display 0.007s |\n",
            "frame 446 |tot 0.072s |load 0.000s |pre 0.025s |net 0.042s |dec 0.002s |post 0.003s |merge 0.000s |display 0.008s |\n",
            "frame 447 |tot 0.070s |load 0.000s |pre 0.020s |net 0.042s |dec 0.003s |post 0.005s |merge 0.000s |display 0.008s |\n",
            "frame 448 |tot 0.070s |load 0.000s |pre 0.023s |net 0.042s |dec 0.002s |post 0.003s |merge 0.000s |display 0.008s |\n",
            "frame 449 |tot 0.067s |load 0.000s |pre 0.020s |net 0.042s |dec 0.002s |post 0.003s |merge 0.000s |display 0.009s |\n",
            "frame 450 |tot 0.081s |load 0.000s |pre 0.033s |net 0.042s |dec 0.002s |post 0.003s |merge 0.000s |display 0.008s |\n",
            "frame 451 |tot 0.067s |load 0.000s |pre 0.020s |net 0.042s |dec 0.002s |post 0.003s |merge 0.000s |display 0.008s |\n",
            "frame 452 |tot 0.067s |load 0.000s |pre 0.019s |net 0.041s |dec 0.002s |post 0.004s |merge 0.000s |display 0.009s |\n",
            "frame 453 |tot 0.067s |load 0.000s |pre 0.021s |net 0.041s |dec 0.002s |post 0.003s |merge 0.000s |display 0.008s |\n",
            "frame 454 |tot 0.069s |load 0.000s |pre 0.023s |net 0.041s |dec 0.002s |post 0.003s |merge 0.000s |display 0.008s |\n",
            "frame 455 |tot 0.067s |load 0.000s |pre 0.021s |net 0.041s |dec 0.002s |post 0.003s |merge 0.000s |display 0.008s |\n",
            "frame 456 |tot 0.073s |load 0.000s |pre 0.027s |net 0.041s |dec 0.002s |post 0.003s |merge 0.000s |display 0.008s |\n",
            "frame 457 |tot 0.066s |load 0.000s |pre 0.020s |net 0.041s |dec 0.002s |post 0.003s |merge 0.000s |display 0.008s |\n",
            "frame 458 |tot 0.066s |load 0.000s |pre 0.020s |net 0.041s |dec 0.002s |post 0.003s |merge 0.000s |display 0.008s |\n",
            "frame 459 |tot 0.065s |load 0.000s |pre 0.019s |net 0.041s |dec 0.002s |post 0.003s |merge 0.000s |display 0.008s |\n",
            "frame 460 |tot 0.066s |load 0.000s |pre 0.020s |net 0.041s |dec 0.002s |post 0.003s |merge 0.000s |display 0.008s |\n",
            "frame 461 |tot 0.067s |load 0.000s |pre 0.020s |net 0.041s |dec 0.002s |post 0.003s |merge 0.000s |display 0.008s |\n",
            "frame 462 |tot 0.066s |load 0.000s |pre 0.020s |net 0.041s |dec 0.002s |post 0.003s |merge 0.000s |display 0.008s |\n",
            "frame 463 |tot 0.066s |load 0.000s |pre 0.019s |net 0.042s |dec 0.002s |post 0.003s |merge 0.000s |display 0.008s |\n",
            "frame 464 |tot 0.067s |load 0.000s |pre 0.019s |net 0.042s |dec 0.002s |post 0.003s |merge 0.000s |display 0.008s |\n",
            "frame 465 |tot 0.067s |load 0.000s |pre 0.020s |net 0.042s |dec 0.002s |post 0.003s |merge 0.000s |display 0.008s |\n",
            "frame 466 |tot 0.067s |load 0.000s |pre 0.019s |net 0.042s |dec 0.002s |post 0.003s |merge 0.000s |display 0.008s |\n",
            "frame 467 |tot 0.068s |load 0.000s |pre 0.021s |net 0.042s |dec 0.002s |post 0.003s |merge 0.000s |display 0.007s |\n",
            "frame 468 |tot 0.066s |load 0.000s |pre 0.019s |net 0.042s |dec 0.002s |post 0.003s |merge 0.000s |display 0.008s |\n",
            "frame 469 |tot 0.067s |load 0.000s |pre 0.019s |net 0.042s |dec 0.002s |post 0.003s |merge 0.000s |display 0.009s |\n",
            "frame 470 |tot 0.067s |load 0.000s |pre 0.020s |net 0.042s |dec 0.002s |post 0.003s |merge 0.000s |display 0.008s |\n",
            "frame 471 |tot 0.077s |load 0.000s |pre 0.029s |net 0.042s |dec 0.002s |post 0.004s |merge 0.000s |display 0.009s |\n",
            "frame 472 |tot 0.069s |load 0.000s |pre 0.022s |net 0.042s |dec 0.002s |post 0.003s |merge 0.000s |display 0.009s |\n",
            "frame 473 |tot 0.067s |load 0.000s |pre 0.020s |net 0.042s |dec 0.002s |post 0.003s |merge 0.000s |display 0.008s |\n",
            "frame 474 |tot 0.068s |load 0.000s |pre 0.020s |net 0.042s |dec 0.002s |post 0.004s |merge 0.000s |display 0.009s |\n",
            "frame 475 |tot 0.068s |load 0.000s |pre 0.021s |net 0.042s |dec 0.002s |post 0.003s |merge 0.000s |display 0.008s |\n",
            "frame 476 |tot 0.067s |load 0.000s |pre 0.020s |net 0.042s |dec 0.002s |post 0.003s |merge 0.000s |display 0.008s |\n",
            "frame 477 |tot 0.068s |load 0.000s |pre 0.020s |net 0.042s |dec 0.002s |post 0.003s |merge 0.000s |display 0.008s |\n",
            "frame 478 |tot 0.070s |load 0.000s |pre 0.023s |net 0.042s |dec 0.002s |post 0.003s |merge 0.000s |display 0.008s |\n",
            "frame 479 |tot 0.068s |load 0.000s |pre 0.020s |net 0.042s |dec 0.002s |post 0.003s |merge 0.000s |display 0.008s |\n",
            "frame 480 |tot 0.068s |load 0.000s |pre 0.020s |net 0.042s |dec 0.002s |post 0.003s |merge 0.000s |display 0.008s |\n",
            "frame 481 |tot 0.068s |load 0.000s |pre 0.020s |net 0.042s |dec 0.002s |post 0.003s |merge 0.000s |display 0.009s |\n",
            "frame 482 |tot 0.068s |load 0.000s |pre 0.021s |net 0.042s |dec 0.002s |post 0.003s |merge 0.000s |display 0.011s |\n",
            "frame 483 |tot 0.070s |load 0.000s |pre 0.020s |net 0.042s |dec 0.004s |post 0.004s |merge 0.000s |display 0.009s |\n",
            "frame 484 |tot 0.070s |load 0.000s |pre 0.022s |net 0.042s |dec 0.002s |post 0.003s |merge 0.000s |display 0.008s |\n",
            "frame 485 |tot 0.068s |load 0.000s |pre 0.020s |net 0.042s |dec 0.002s |post 0.004s |merge 0.000s |display 0.009s |\n",
            "frame 486 |tot 0.072s |load 0.000s |pre 0.023s |net 0.042s |dec 0.002s |post 0.003s |merge 0.000s |display 0.009s |\n",
            "frame 487 |tot 0.068s |load 0.000s |pre 0.021s |net 0.042s |dec 0.002s |post 0.003s |merge 0.000s |display 0.008s |\n",
            "frame 488 |tot 0.068s |load 0.000s |pre 0.021s |net 0.042s |dec 0.002s |post 0.003s |merge 0.000s |display 0.008s |\n",
            "frame 489 |tot 0.073s |load 0.000s |pre 0.025s |net 0.042s |dec 0.002s |post 0.003s |merge 0.000s |display 0.008s |\n",
            "frame 490 |tot 0.068s |load 0.000s |pre 0.021s |net 0.042s |dec 0.002s |post 0.003s |merge 0.000s |display 0.008s |\n",
            "frame 491 |tot 0.069s |load 0.000s |pre 0.020s |net 0.042s |dec 0.002s |post 0.004s |merge 0.000s |display 0.008s |\n",
            "frame 492 |tot 0.071s |load 0.000s |pre 0.024s |net 0.042s |dec 0.002s |post 0.003s |merge 0.000s |display 0.008s |\n",
            "frame 493 |tot 0.071s |load 0.000s |pre 0.023s |net 0.042s |dec 0.002s |post 0.004s |merge 0.000s |display 0.008s |\n",
            "frame 494 |tot 0.070s |load 0.000s |pre 0.023s |net 0.042s |dec 0.002s |post 0.003s |merge 0.000s |display 0.007s |\n",
            "frame 495 |tot 0.067s |load 0.000s |pre 0.020s |net 0.042s |dec 0.002s |post 0.003s |merge 0.000s |display 0.008s |\n",
            "frame 496 |tot 0.068s |load 0.000s |pre 0.020s |net 0.042s |dec 0.002s |post 0.003s |merge 0.000s |display 0.008s |\n",
            "frame 497 |tot 0.068s |load 0.000s |pre 0.020s |net 0.042s |dec 0.002s |post 0.003s |merge 0.000s |display 0.007s |\n",
            "frame 498 |tot 0.067s |load 0.000s |pre 0.020s |net 0.042s |dec 0.002s |post 0.003s |merge 0.000s |display 0.007s |\n",
            "frame 499 |tot 0.067s |load 0.000s |pre 0.020s |net 0.042s |dec 0.002s |post 0.003s |merge 0.000s |display 0.008s |\n",
            "frame 500 |tot 0.069s |load 0.000s |pre 0.021s |net 0.042s |dec 0.002s |post 0.004s |merge 0.000s |display 0.009s |\n",
            "frame 501 |tot 0.066s |load 0.000s |pre 0.020s |net 0.042s |dec 0.002s |post 0.003s |merge 0.000s |display 0.007s |\n",
            "frame 502 |tot 0.067s |load 0.000s |pre 0.020s |net 0.042s |dec 0.002s |post 0.003s |merge 0.000s |display 0.007s |\n",
            "frame 503 |tot 0.068s |load 0.000s |pre 0.021s |net 0.042s |dec 0.002s |post 0.004s |merge 0.000s |display 0.008s |\n",
            "frame 504 |tot 0.069s |load 0.000s |pre 0.020s |net 0.042s |dec 0.002s |post 0.004s |merge 0.000s |display 0.009s |\n",
            "frame 505 |tot 0.072s |load 0.000s |pre 0.024s |net 0.042s |dec 0.002s |post 0.003s |merge 0.000s |display 0.009s |\n",
            "frame 506 |tot 0.072s |load 0.000s |pre 0.021s |net 0.042s |dec 0.003s |post 0.006s |merge 0.000s |display 0.008s |\n",
            "frame 507 |tot 0.075s |load 0.000s |pre 0.026s |net 0.042s |dec 0.002s |post 0.004s |merge 0.000s |display 0.008s |\n",
            "frame 508 |tot 0.071s |load 0.000s |pre 0.022s |net 0.042s |dec 0.002s |post 0.004s |merge 0.000s |display 0.008s |\n",
            "frame 509 |tot 0.069s |load 0.000s |pre 0.020s |net 0.042s |dec 0.002s |post 0.004s |merge 0.000s |display 0.009s |\n",
            "frame 510 |tot 0.069s |load 0.000s |pre 0.021s |net 0.042s |dec 0.002s |post 0.004s |merge 0.000s |display 0.009s |\n",
            "frame 511 |tot 0.074s |load 0.000s |pre 0.025s |net 0.042s |dec 0.002s |post 0.004s |merge 0.000s |display 0.009s |\n",
            "frame 512 |tot 0.068s |load 0.000s |pre 0.020s |net 0.042s |dec 0.002s |post 0.004s |merge 0.000s |display 0.008s |\n",
            "frame 513 |tot 0.068s |load 0.000s |pre 0.020s |net 0.043s |dec 0.002s |post 0.003s |merge 0.000s |display 0.008s |\n",
            "frame 514 |tot 0.070s |load 0.000s |pre 0.021s |net 0.042s |dec 0.002s |post 0.004s |merge 0.000s |display 0.007s |\n",
            "frame 515 |tot 0.068s |load 0.000s |pre 0.020s |net 0.042s |dec 0.002s |post 0.004s |merge 0.000s |display 0.008s |\n",
            "frame 516 |tot 0.071s |load 0.000s |pre 0.022s |net 0.042s |dec 0.002s |post 0.004s |merge 0.000s |display 0.009s |\n",
            "frame 517 |tot 0.069s |load 0.000s |pre 0.021s |net 0.042s |dec 0.002s |post 0.004s |merge 0.000s |display 0.008s |\n",
            "frame 518 |tot 0.068s |load 0.000s |pre 0.020s |net 0.042s |dec 0.002s |post 0.004s |merge 0.000s |display 0.009s |\n",
            "frame 519 |tot 0.067s |load 0.000s |pre 0.020s |net 0.042s |dec 0.002s |post 0.003s |merge 0.000s |display 0.008s |\n",
            "frame 520 |tot 0.069s |load 0.000s |pre 0.021s |net 0.042s |dec 0.002s |post 0.004s |merge 0.000s |display 0.012s |\n",
            "frame 521 |tot 0.069s |load 0.000s |pre 0.020s |net 0.042s |dec 0.002s |post 0.004s |merge 0.000s |display 0.008s |\n",
            "frame 522 |tot 0.068s |load 0.000s |pre 0.020s |net 0.042s |dec 0.002s |post 0.003s |merge 0.000s |display 0.009s |\n",
            "frame 523 |tot 0.068s |load 0.000s |pre 0.020s |net 0.043s |dec 0.002s |post 0.004s |merge 0.000s |display 0.009s |\n",
            "frame 524 |tot 0.069s |load 0.000s |pre 0.020s |net 0.043s |dec 0.002s |post 0.003s |merge 0.000s |display 0.009s |\n",
            "frame 525 |tot 0.070s |load 0.000s |pre 0.020s |net 0.043s |dec 0.002s |post 0.005s |merge 0.000s |display 0.012s |\n",
            "frame 526 |tot 0.069s |load 0.000s |pre 0.020s |net 0.043s |dec 0.002s |post 0.004s |merge 0.000s |display 0.009s |\n",
            "frame 527 |tot 0.070s |load 0.000s |pre 0.020s |net 0.043s |dec 0.002s |post 0.005s |merge 0.000s |display 0.008s |\n",
            "frame 528 |tot 0.072s |load 0.000s |pre 0.021s |net 0.043s |dec 0.003s |post 0.005s |merge 0.000s |display 0.008s |\n",
            "frame 529 |tot 0.068s |load 0.000s |pre 0.020s |net 0.043s |dec 0.002s |post 0.003s |merge 0.000s |display 0.009s |\n",
            "frame 530 |tot 0.068s |load 0.000s |pre 0.020s |net 0.043s |dec 0.002s |post 0.003s |merge 0.000s |display 0.008s |\n",
            "frame 531 |tot 0.070s |load 0.000s |pre 0.021s |net 0.043s |dec 0.003s |post 0.003s |merge 0.000s |display 0.008s |\n",
            "frame 532 |tot 0.068s |load 0.000s |pre 0.020s |net 0.042s |dec 0.002s |post 0.003s |merge 0.000s |display 0.008s |\n",
            "frame 533 |tot 0.069s |load 0.000s |pre 0.020s |net 0.042s |dec 0.002s |post 0.004s |merge 0.000s |display 0.008s |\n",
            "frame 534 |tot 0.069s |load 0.000s |pre 0.020s |net 0.042s |dec 0.003s |post 0.004s |merge 0.000s |display 0.008s |\n",
            "frame 535 |tot 0.068s |load 0.000s |pre 0.020s |net 0.041s |dec 0.002s |post 0.003s |merge 0.000s |display 0.009s |\n",
            "frame 536 |tot 0.068s |load 0.000s |pre 0.021s |net 0.041s |dec 0.002s |post 0.003s |merge 0.000s |display 0.008s |\n",
            "frame 537 |tot 0.069s |load 0.000s |pre 0.021s |net 0.042s |dec 0.002s |post 0.003s |merge 0.000s |display 0.008s |\n",
            "frame 538 |tot 0.068s |load 0.000s |pre 0.021s |net 0.042s |dec 0.002s |post 0.003s |merge 0.000s |display 0.008s |\n",
            "frame 539 |tot 0.069s |load 0.000s |pre 0.020s |net 0.042s |dec 0.003s |post 0.003s |merge 0.000s |display 0.008s |\n",
            "frame 540 |tot 0.067s |load 0.000s |pre 0.020s |net 0.042s |dec 0.002s |post 0.003s |merge 0.000s |display 0.008s |\n",
            "frame 541 |tot 0.070s |load 0.000s |pre 0.023s |net 0.042s |dec 0.002s |post 0.004s |merge 0.000s |display 0.009s |\n",
            "frame 542 |tot 0.069s |load 0.000s |pre 0.021s |net 0.042s |dec 0.002s |post 0.004s |merge 0.000s |display 0.010s |\n",
            "frame 543 |tot 0.070s |load 0.000s |pre 0.021s |net 0.042s |dec 0.002s |post 0.004s |merge 0.000s |display 0.009s |\n",
            "frame 544 |tot 0.068s |load 0.000s |pre 0.021s |net 0.042s |dec 0.002s |post 0.003s |merge 0.000s |display 0.009s |\n",
            "frame 545 |tot 0.069s |load 0.000s |pre 0.021s |net 0.042s |dec 0.002s |post 0.004s |merge 0.000s |display 0.008s |\n",
            "frame 546 |tot 0.069s |load 0.000s |pre 0.021s |net 0.042s |dec 0.002s |post 0.004s |merge 0.000s |display 0.009s |\n",
            "frame 547 |tot 0.068s |load 0.000s |pre 0.020s |net 0.041s |dec 0.002s |post 0.004s |merge 0.000s |display 0.009s |\n",
            "frame 548 |tot 0.068s |load 0.000s |pre 0.021s |net 0.042s |dec 0.002s |post 0.004s |merge 0.000s |display 0.008s |\n",
            "frame 549 |tot 0.069s |load 0.000s |pre 0.020s |net 0.042s |dec 0.002s |post 0.004s |merge 0.000s |display 0.009s |\n",
            "frame 550 |tot 0.074s |load 0.000s |pre 0.021s |net 0.042s |dec 0.003s |post 0.007s |merge 0.000s |display 0.014s |\n",
            "frame 551 |tot 0.072s |load 0.000s |pre 0.022s |net 0.043s |dec 0.002s |post 0.004s |merge 0.000s |display 0.009s |\n",
            "frame 552 |tot 0.073s |load 0.000s |pre 0.021s |net 0.042s |dec 0.002s |post 0.006s |merge 0.000s |display 0.011s |\n",
            "frame 553 |tot 0.071s |load 0.000s |pre 0.022s |net 0.043s |dec 0.002s |post 0.004s |merge 0.000s |display 0.010s |\n",
            "frame 554 |tot 0.069s |load 0.000s |pre 0.021s |net 0.042s |dec 0.002s |post 0.003s |merge 0.000s |display 0.009s |\n",
            "frame 555 |tot 0.067s |load 0.000s |pre 0.020s |net 0.042s |dec 0.002s |post 0.003s |merge 0.000s |display 0.008s |\n",
            "frame 556 |tot 0.074s |load 0.000s |pre 0.026s |net 0.042s |dec 0.002s |post 0.003s |merge 0.000s |display 0.008s |\n",
            "frame 557 |tot 0.067s |load 0.000s |pre 0.020s |net 0.042s |dec 0.002s |post 0.003s |merge 0.000s |display 0.008s |\n",
            "frame 558 |tot 0.067s |load 0.000s |pre 0.020s |net 0.042s |dec 0.002s |post 0.003s |merge 0.000s |display 0.007s |\n",
            "frame 559 |tot 0.067s |load 0.000s |pre 0.020s |net 0.042s |dec 0.002s |post 0.003s |merge 0.000s |display 0.007s |\n",
            "frame 560 |tot 0.069s |load 0.000s |pre 0.022s |net 0.041s |dec 0.002s |post 0.004s |merge 0.000s |display 0.008s |\n",
            "frame 561 |tot 0.067s |load 0.000s |pre 0.020s |net 0.042s |dec 0.002s |post 0.003s |merge 0.000s |display 0.008s |\n",
            "frame 562 |tot 0.067s |load 0.000s |pre 0.020s |net 0.042s |dec 0.002s |post 0.003s |merge 0.000s |display 0.007s |\n",
            "frame 563 |tot 0.068s |load 0.000s |pre 0.020s |net 0.042s |dec 0.002s |post 0.003s |merge 0.000s |display 0.008s |\n",
            "frame 564 |tot 0.067s |load 0.000s |pre 0.020s |net 0.042s |dec 0.002s |post 0.003s |merge 0.000s |display 0.009s |\n",
            "frame 565 |tot 0.068s |load 0.000s |pre 0.020s |net 0.042s |dec 0.002s |post 0.003s |merge 0.000s |display 0.008s |\n",
            "frame 566 |tot 0.068s |load 0.000s |pre 0.020s |net 0.042s |dec 0.002s |post 0.003s |merge 0.000s |display 0.008s |\n",
            "exiting\n"
          ]
        }
      ]
    },
    {
      "cell_type": "markdown",
      "metadata": {
        "id": "8vZilmH_88bH"
      },
      "source": [
        "You will need to specify test_focal_length for monocular 3D tracking demo to convert the image coordinate system back to 3D. The value 633 is half of a typical focal length (~1266) in nuScenes dataset in input resolution 1600x900. The mini demo video is in an input resolution of 800x448, so we need to use a half focal length. You don't need to set the test_focal_length when testing on the original nuScenes data."
      ]
    },
    {
      "cell_type": "code",
      "source": [
        "from google.colab import drive\n",
        "drive.mount('/content/drive')"
      ],
      "metadata": {
        "colab": {
          "base_uri": "https://localhost:8080/"
        },
        "id": "dm_TJ9UeUsFJ",
        "outputId": "b38cf7eb-cc67-413c-f81b-42dab27e53f1"
      },
      "execution_count": 40,
      "outputs": [
        {
          "output_type": "stream",
          "name": "stdout",
          "text": [
            "Mounted at /content/drive\n"
          ]
        }
      ]
    },
    {
      "cell_type": "markdown",
      "metadata": {
        "id": "Ra4B0CzB9XEx"
      },
      "source": [
        "Similarly, for 80-category tracking on images/ video, run:"
      ]
    },
    {
      "cell_type": "code",
      "metadata": {
        "id": "e7B_4SKd1_n5"
      },
      "source": [
        "! python demo.py tracking --load_model ../models/coco_tracking.pth --demo road_traffic.mp4"
      ],
      "execution_count": null,
      "outputs": []
    },
    {
      "cell_type": "markdown",
      "metadata": {
        "id": "Mfs1XUiW9fcn"
      },
      "source": [
        "If you want to test with person tracking models, you need to add --num_class 1:"
      ]
    },
    {
      "cell_type": "code",
      "metadata": {
        "id": "D5KPZwaT9gGR",
        "colab": {
          "base_uri": "https://localhost:8080/"
        },
        "outputId": "25107d45-a5c5-4f20-b636-3bd12fe46763"
      },
      "source": [
        "! python demo.py tracking --load_model ../models/mot17_half.pth --num_class 1 --demo pedestrian.avi --save_video\n",
        "#! python demo.py tracking --load_model ../models/mot17_fulltrain.pth --num_class 1 --demo pedestrian.avi --save_video --debug 2"
      ],
      "execution_count": 25,
      "outputs": [
        {
          "output_type": "stream",
          "name": "stdout",
          "text": [
            "/usr/local/lib/python3.7/dist-packages/sklearn/utils/linear_assignment_.py:22: FutureWarning: The linear_assignment_ module is deprecated in 0.21 and will be removed from 0.23. Use scipy.optimize.linear_sum_assignment instead.\n",
            "  FutureWarning)\n",
            "Running tracking\n",
            "Using tracking threshold for out threshold! 0.3\n",
            "Fix size testing.\n",
            "training chunk_sizes: [32]\n",
            "input h w: 512 512\n",
            "heads {'hm': 1, 'reg': 2, 'wh': 2, 'tracking': 2}\n",
            "weights {'hm': 1, 'reg': 1, 'wh': 0.1, 'tracking': 1}\n",
            "head conv {'hm': [256], 'reg': [256], 'wh': [256], 'tracking': [256]}\n",
            "Creating model...\n",
            "Using node type: (<class 'model.networks.dla.DeformConv'>, <class 'model.networks.dla.DeformConv'>)\n",
            "Warning: No ImageNet pretrain!!\n",
            "loaded ../models/mot17_half.pth, epoch 70\n",
            "Drop parameter ltrb_amodal.0.weight.\n",
            "Drop parameter ltrb_amodal.0.bias.\n",
            "Drop parameter ltrb_amodal.2.weight.\n",
            "Drop parameter ltrb_amodal.2.bias.\n",
            "Drop parameter base.pre_hm_layer.0.weight.\n",
            "Drop parameter base.pre_hm_layer.1.weight.\n",
            "Drop parameter base.pre_hm_layer.1.bias.\n",
            "Drop parameter base.pre_hm_layer.1.running_mean.\n",
            "Drop parameter base.pre_hm_layer.1.running_var.\n",
            "Drop parameter base.pre_hm_layer.1.num_batches_tracked.\n",
            "[ERROR:0] global /io/opencv/modules/videoio/src/cap.cpp (116) open VIDEOIO(CV_IMAGES): raised OpenCV exception:\n",
            "\n",
            "OpenCV(4.1.2) /io/opencv/modules/videoio/src/cap_images.cpp:253: error: (-5:Bad argument) CAP_IMAGES: can't find starting number (in the name of file): pedestrian.avi in function 'icvExtractPattern'\n",
            "\n",
            "\n",
            "out_name pedestrian.avi\n",
            "None\n",
            "exiting\n"
          ]
        }
      ]
    },
    {
      "cell_type": "code",
      "source": [
        "%%shell\n",
        "cd ../\n",
        "pwd\n",
        "zip -r results.zip results\n",
        "du -h results.zip\n",
        "cp results.zip '../drive/My Drive/'"
      ],
      "metadata": {
        "colab": {
          "base_uri": "https://localhost:8080/"
        },
        "id": "IuHsdUE1Vh4_",
        "outputId": "025099e6-6462-42c7-fbe6-159d677ba8dc"
      },
      "execution_count": 58,
      "outputs": [
        {
          "output_type": "stream",
          "name": "stdout",
          "text": [
            "/content/CenterTrack\n",
            "updating: results/ (stored 0%)\n",
            "updating: results/trail40.png (deflated 18%)\n",
            "updating: results/trail31.png (deflated 16%)\n",
            "updating: results/trail29.png (deflated 16%)\n",
            "updating: results/trail19.png (deflated 15%)\n",
            "updating: results/trail27.png (deflated 16%)\n",
            "updating: results/trail7.png (deflated 11%)\n",
            "updating: results/trail5.png (deflated 11%)\n",
            "updating: results/trail13.png (deflated 17%)\n",
            "updating: results/trail2.png (deflated 12%)\n",
            "updating: results/trail9.png (deflated 11%)\n",
            "updating: results/trail30.png (deflated 16%)\n",
            "updating: results/trail21.png (deflated 15%)\n",
            "updating: results/trail14.png (deflated 15%)\n",
            "updating: results/trail18.png (deflated 15%)\n",
            "updating: results/trail26.png (deflated 17%)\n",
            "updating: results/trail35.png (deflated 15%)\n",
            "updating: results/trail39.png (deflated 17%)\n",
            "updating: results/trail1.png (deflated 14%)\n",
            "updating: results/trail11.png (deflated 11%)\n",
            "updating: results/trail10.png (deflated 11%)\n",
            "updating: results/trail34.png (deflated 16%)\n",
            "updating: results/trail6.png (deflated 11%)\n",
            "updating: results/trail38.png (deflated 18%)\n",
            "updating: results/trail37.png (deflated 20%)\n",
            "updating: results/trail36.png (deflated 15%)\n",
            "updating: results/trail4.png (deflated 11%)\n",
            "updating: results/trail28.png (deflated 17%)\n",
            "updating: results/.ipynb_checkpoints/ (stored 0%)\n",
            "updating: results/trail33.png (deflated 16%)\n",
            "updating: results/trail32.png (deflated 16%)\n",
            "updating: results/trail17.png (deflated 15%)\n",
            "updating: results/trail24.png (deflated 14%)\n",
            "updating: results/trail22.png (deflated 15%)\n",
            "updating: results/trail25.png (deflated 19%)\n",
            "updating: results/trail3.png (deflated 11%)\n",
            "updating: results/trail16.png (deflated 15%)\n",
            "updating: results/trail20.png (deflated 15%)\n",
            "updating: results/trail8.png (deflated 11%)\n",
            "updating: results/trail12.png (deflated 11%)\n",
            "updating: results/trail23.png (deflated 15%)\n",
            "updating: results/trail15.png (deflated 15%)\n",
            "  adding: results/trail365.png (deflated 18%)\n",
            "  adding: results/trail184.png (deflated 18%)\n",
            "  adding: results/trail97.png (deflated 20%)\n",
            "  adding: results/trail423.png (deflated 18%)\n",
            "  adding: results/trail441.png (deflated 18%)\n",
            "  adding: results/trail234.png (deflated 18%)\n",
            "  adding: results/trail538.png (deflated 18%)\n",
            "  adding: results/trail359.png (deflated 17%)\n",
            "  adding: results/trail510.png (deflated 18%)\n",
            "  adding: results/trail356.png (deflated 18%)\n",
            "  adding: results/trail120.png (deflated 16%)\n",
            "  adding: results/trail328.png (deflated 18%)\n",
            "  adding: results/trail170.png (deflated 19%)\n",
            "  adding: results/trail364.png (deflated 18%)\n",
            "  adding: results/trail277.png (deflated 20%)\n",
            "  adding: results/trail565.png (deflated 20%)\n",
            "  adding: results/trail126.png (deflated 18%)\n",
            "  adding: results/trail80.png (deflated 18%)\n",
            "  adding: results/trail369.png (deflated 18%)\n",
            "  adding: results/trail191.png (deflated 18%)\n",
            "  adding: results/trail327.png (deflated 18%)\n",
            "  adding: results/trail275.png (deflated 18%)\n",
            "  adding: results/trail212.png (deflated 18%)\n",
            "  adding: results/trail150.png (deflated 18%)\n",
            "  adding: results/trail396.png (deflated 18%)\n",
            "  adding: results/trail404.png (deflated 18%)\n",
            "  adding: results/trail490.png (deflated 18%)\n",
            "  adding: results/trail305.png (deflated 18%)\n",
            "  adding: results/trail133.png (deflated 20%)\n",
            "  adding: results/trail559.png (deflated 18%)\n",
            "  adding: results/trail398.png (deflated 18%)\n",
            "  adding: results/trail138.png (deflated 18%)\n",
            "  adding: results/trail353.png (deflated 18%)\n",
            "  adding: results/trail558.png (deflated 18%)\n",
            "  adding: results/trail161.png (deflated 18%)\n",
            "  adding: results/trail397.png (deflated 20%)\n",
            "  adding: results/trail425.png (deflated 18%)\n",
            "  adding: results/trail481.png (deflated 21%)\n",
            "  adding: results/trail402.png (deflated 18%)\n",
            "  adding: results/trail447.png (deflated 18%)\n",
            "  adding: results/trail390.png (deflated 18%)\n",
            "  adding: results/trail52.png (deflated 18%)\n",
            "  adding: results/trail88.png (deflated 18%)\n",
            "  adding: results/trail166.png (deflated 18%)\n",
            "  adding: results/trail119.png (deflated 17%)\n",
            "  adding: results/trail321.png (deflated 18%)\n",
            "  adding: results/trail342.png (deflated 18%)\n",
            "  adding: results/trail251.png (deflated 18%)\n",
            "  adding: results/trail411.png (deflated 18%)\n",
            "  adding: results/trail189.png (deflated 18%)\n",
            "  adding: results/trail500.png (deflated 18%)\n",
            "  adding: results/trail348.png (deflated 18%)\n",
            "  adding: results/trail94.png (deflated 18%)\n",
            "  adding: results/trail438.png (deflated 18%)\n",
            "  adding: results/trail56.png (deflated 18%)\n",
            "  adding: results/trail477.png (deflated 18%)\n",
            "  adding: results/trail81.png (deflated 18%)\n",
            "  adding: results/trail338.png (deflated 18%)\n",
            "  adding: results/trail179.png (deflated 18%)\n",
            "  adding: results/trail511.png (deflated 18%)\n",
            "  adding: results/trail498.png (deflated 19%)\n",
            "  adding: results/trail187.png (deflated 19%)\n",
            "  adding: results/trail211.png (deflated 18%)\n",
            "  adding: results/trail389.png (deflated 18%)\n",
            "  adding: results/trail491.png (deflated 18%)\n",
            "  adding: results/trail504.png (deflated 18%)\n",
            "  adding: results/trail245.png (deflated 18%)\n",
            "  adding: results/trail279.png (deflated 18%)\n",
            "  adding: results/trail409.png (deflated 20%)\n",
            "  adding: results/trail210.png (deflated 18%)\n",
            "  adding: results/trail407.png (deflated 17%)\n",
            "  adding: results/trail375.png (deflated 18%)\n",
            "  adding: results/trail450.png (deflated 18%)\n",
            "  adding: results/trail547.png (deflated 18%)\n",
            "  adding: results/trail268.png (deflated 18%)\n",
            "  adding: results/trail341.png (deflated 18%)\n",
            "  adding: results/trail195.png (deflated 18%)\n",
            "  adding: results/trail455.png (deflated 17%)\n",
            "  adding: results/trail399.png (deflated 18%)\n",
            "  adding: results/trail479.png (deflated 18%)\n",
            "  adding: results/trail298.png (deflated 18%)\n",
            "  adding: results/trail155.png (deflated 18%)\n",
            "  adding: results/trail522.png (deflated 19%)\n",
            "  adding: results/trail458.png (deflated 18%)\n",
            "  adding: results/trail329.png (deflated 18%)\n",
            "  adding: results/trail444.png (deflated 18%)\n",
            "  adding: results/trail159.png (deflated 18%)\n",
            "  adding: results/trail418.png (deflated 18%)\n",
            "  adding: results/trail307.png (deflated 18%)\n",
            "  adding: results/trail290.png (deflated 18%)\n",
            "  adding: results/trail128.png (deflated 17%)\n",
            "  adding: results/trail142.png (deflated 18%)\n",
            "  adding: results/trail181.png (deflated 20%)\n",
            "  adding: results/trail331.png (deflated 18%)\n",
            "  adding: results/trail392.png (deflated 18%)\n",
            "  adding: results/trail430.png (deflated 18%)\n",
            "  adding: results/trail434.png (deflated 18%)\n",
            "  adding: results/trail121.png (deflated 20%)\n",
            "  adding: results/trail515.png (deflated 18%)\n",
            "  adding: results/trail269.png (deflated 18%)\n",
            "  adding: results/trail533.png (deflated 18%)\n",
            "  adding: results/trail429.png (deflated 18%)\n",
            "  adding: results/trail446.png (deflated 18%)\n",
            "  adding: results/trail265.png (deflated 20%)\n",
            "  adding: results/trail82.png (deflated 17%)\n",
            "  adding: results/trail385.png (deflated 20%)\n",
            "  adding: results/trail261.png (deflated 18%)\n",
            "  adding: results/trail255.png (deflated 18%)\n",
            "  adding: results/trail239.png (deflated 18%)\n",
            "  adding: results/trail344.png (deflated 18%)\n",
            "  adding: results/trail310.png (deflated 17%)\n",
            "  adding: results/trail64.png (deflated 18%)\n",
            "  adding: results/trail151.png (deflated 18%)\n",
            "  adding: results/trail416.png (deflated 18%)\n",
            "  adding: results/trail325.png (deflated 20%)\n",
            "  adding: results/trail387.png (deflated 18%)\n",
            "  adding: results/trail139.png (deflated 18%)\n",
            "  adding: results/trail394.png (deflated 18%)\n",
            "  adding: results/trail368.png (deflated 18%)\n",
            "  adding: results/trail42.png (deflated 18%)\n",
            "  adding: results/trail414.png (deflated 18%)\n",
            "  adding: results/trail110.png (deflated 18%)\n",
            "  adding: results/trail469.png (deflated 20%)\n",
            "  adding: results/trail280.png (deflated 18%)\n",
            "  adding: results/trail315.png (deflated 18%)\n",
            "  adding: results/trail74.png (deflated 18%)\n",
            "  adding: results/trail219.png (deflated 18%)\n",
            "  adding: results/trail264.png (deflated 18%)\n",
            "  adding: results/trail218.png (deflated 18%)\n",
            "  adding: results/trail43.png (deflated 18%)\n",
            "  adding: results/trail293.png (deflated 17%)\n",
            "  adding: results/trail173.png (deflated 18%)\n",
            "  adding: results/trail354.png (deflated 18%)\n",
            "  adding: results/trail501.png (deflated 18%)\n",
            "  adding: results/trail132.png (deflated 17%)\n",
            "  adding: results/trail216.png (deflated 18%)\n",
            "  adding: results/trail442.png (deflated 18%)\n",
            "  adding: results/trail552.png (deflated 18%)\n",
            "  adding: results/trail93.png (deflated 18%)\n",
            "  adding: results/trail135.png (deflated 18%)\n",
            "  adding: results/trail262.png (deflated 18%)\n",
            "  adding: results/trail162.png (deflated 18%)\n",
            "  adding: results/trail449.png (deflated 18%)\n",
            "  adding: results/trail186.png (deflated 18%)\n",
            "  adding: results/trail405.png (deflated 17%)\n",
            "  adding: results/trail300.png (deflated 17%)\n",
            "  adding: results/trail347.png (deflated 18%)\n",
            "  adding: results/trail457.png (deflated 20%)\n",
            "  adding: results/trail549.png (deflated 18%)\n",
            "  adding: results/trail140.png (deflated 17%)\n",
            "  adding: results/trail508.png (deflated 18%)\n",
            "  adding: results/trail143.png (deflated 18%)\n",
            "  adding: results/trail339.png (deflated 18%)\n",
            "  adding: results/trail448.png (deflated 18%)\n",
            "  adding: results/trail377.png (deflated 18%)\n",
            "  adding: results/trail476.png (deflated 18%)\n",
            "  adding: results/trail145.png (deflated 20%)\n",
            "  adding: results/trail557.png (deflated 18%)\n",
            "  adding: results/trail485.png (deflated 18%)\n",
            "  adding: results/trail89.png (deflated 18%)\n",
            "  adding: results/trail160.png (deflated 18%)\n",
            "  adding: results/trail527.png (deflated 18%)\n",
            "  adding: results/trail258.png (deflated 18%)\n",
            "  adding: results/trail220.png (deflated 18%)\n",
            "  adding: results/trail413.png (deflated 18%)\n",
            "  adding: results/trail46.png (deflated 17%)\n",
            "  adding: results/trail235.png (deflated 18%)\n",
            "  adding: results/trail382.png (deflated 18%)\n",
            "  adding: results/trail475.png (deflated 18%)\n",
            "  adding: results/trail314.png (deflated 18%)\n",
            "  adding: results/trail433.png (deflated 19%)\n",
            "  adding: results/trail41.png (deflated 18%)\n",
            "  adding: results/trail157.png (deflated 21%)\n",
            "  adding: results/trail98.png (deflated 18%)\n",
            "  adding: results/trail51.png (deflated 18%)\n",
            "  adding: results/trail156.png (deflated 18%)\n",
            "  adding: results/trail232.png (deflated 18%)\n",
            "  adding: results/trail320.png (deflated 18%)\n",
            "  adding: results/trail158.png (deflated 18%)\n",
            "  adding: results/trail178.png (deflated 18%)\n",
            "  adding: results/trail518.png (deflated 18%)\n",
            "  adding: results/trail530.png (deflated 18%)\n",
            "  adding: results/trail182.png (deflated 19%)\n",
            "  adding: results/trail324.png (deflated 17%)\n",
            "  adding: results/trail144.png (deflated 18%)\n",
            "  adding: results/trail445.png (deflated 20%)\n",
            "  adding: results/trail95.png (deflated 18%)\n",
            "  adding: results/trail366.png (deflated 18%)\n",
            "  adding: results/trail318.png (deflated 18%)\n",
            "  adding: results/trail190.png (deflated 18%)\n",
            "  adding: results/trail163.png (deflated 18%)\n",
            "  adding: results/trail543.png (deflated 18%)\n",
            "  adding: results/trail230.png (deflated 18%)\n",
            "  adding: results/trail260.png (deflated 18%)\n",
            "  adding: results/trail244.png (deflated 18%)\n",
            "  adding: results/trail92.png (deflated 18%)\n",
            "  adding: results/trail44.png (deflated 18%)\n",
            "  adding: results/trail147.png (deflated 18%)\n",
            "  adding: results/trail520.png (deflated 19%)\n",
            "  adding: results/trail548.png (deflated 18%)\n",
            "  adding: results/trail427.png (deflated 18%)\n",
            "  adding: results/trail528.png (deflated 18%)\n",
            "  adding: results/trail311.png (deflated 18%)\n",
            "  adding: results/trail109.png (deflated 20%)\n",
            "  adding: results/trail525.png (deflated 18%)\n",
            "  adding: results/trail428.png (deflated 18%)\n",
            "  adding: results/trail563.png (deflated 18%)\n",
            "  adding: results/trail544.png (deflated 18%)\n",
            "  adding: results/trail496.png (deflated 18%)\n",
            "  adding: results/trail271.png (deflated 18%)\n",
            "  adding: results/trail524.png (deflated 18%)\n",
            "  adding: results/trail252.png (deflated 18%)\n",
            "  adding: results/trail337.png (deflated 20%)\n",
            "  adding: results/trail174.png (deflated 18%)\n",
            "  adding: results/trail288.png (deflated 18%)\n",
            "  adding: results/trail509.png (deflated 18%)\n",
            "  adding: results/trail65.png (deflated 17%)\n",
            "  adding: results/trail378.png (deflated 18%)\n",
            "  adding: results/trail386.png (deflated 18%)\n",
            "  adding: results/trail381.png (deflated 18%)\n",
            "  adding: results/trail456.png (deflated 18%)\n",
            "  adding: results/trail400.png (deflated 18%)\n",
            "  adding: results/trail379.png (deflated 19%)\n",
            "  adding: results/trail401.png (deflated 18%)\n",
            "  adding: results/trail412.png (deflated 18%)\n",
            "  adding: results/trail336.png (deflated 18%)\n",
            "  adding: results/trail49.png (deflated 20%)\n",
            "  adding: results/trail183.png (deflated 18%)\n",
            "  adding: results/trail452.png (deflated 18%)\n",
            "  adding: results/trail376.png (deflated 18%)\n",
            "  adding: results/trail373.png (deflated 20%)\n",
            "  adding: results/trail57.png (deflated 17%)\n",
            "  adding: results/trail104.png (deflated 18%)\n",
            "  adding: results/trail367.png (deflated 18%)\n",
            "  adding: results/trail517.png (deflated 21%)\n",
            "  adding: results/trail221.png (deflated 18%)\n",
            "  adding: results/trail326.png (deflated 18%)\n",
            "  adding: results/trail545.png (deflated 18%)\n",
            "  adding: results/trail553.png (deflated 20%)\n",
            "  adding: results/trail116.png (deflated 17%)\n",
            "  adding: results/trail363.png (deflated 18%)\n",
            "  adding: results/trail278.png (deflated 18%)\n",
            "  adding: results/trail313.png (deflated 20%)\n",
            "  adding: results/trail107.png (deflated 18%)\n",
            "  adding: results/trail60.png (deflated 17%)\n",
            "  adding: results/trail322.png (deflated 17%)\n",
            "  adding: results/trail561.png (deflated 18%)\n",
            "  adding: results/trail79.png (deflated 18%)\n",
            "  adding: results/trail505.png (deflated 21%)\n",
            "  adding: results/trail148.png (deflated 18%)\n",
            "  adding: results/trail529.png (deflated 21%)\n",
            "  adding: results/trail241.png (deflated 20%)\n",
            "  adding: results/trail355.png (deflated 18%)\n",
            "  adding: results/trail495.png (deflated 18%)\n",
            "  adding: results/trail214.png (deflated 18%)\n",
            "  adding: results/trail114.png (deflated 18%)\n",
            "  adding: results/trail467.png (deflated 18%)\n",
            "  adding: results/trail302.png (deflated 18%)\n",
            "  adding: results/trail333.png (deflated 18%)\n",
            "  adding: results/trail108.png (deflated 18%)\n",
            "  adding: results/trail222.png (deflated 18%)\n",
            "  adding: results/trail296.png (deflated 18%)\n",
            "  adding: results/trail68.png (deflated 17%)\n",
            "  adding: results/trail537.png (deflated 18%)\n",
            "  adding: results/trail432.png (deflated 18%)\n",
            "  adding: results/trail523.png (deflated 18%)\n",
            "  adding: results/trail270.png (deflated 18%)\n",
            "  adding: results/trail146.png (deflated 18%)\n",
            "  adding: results/trail69.png (deflated 18%)\n",
            "  adding: results/trail130.png (deflated 18%)\n",
            "  adding: results/trail488.png (deflated 18%)\n",
            "  adding: results/trail284.png (deflated 18%)\n",
            "  adding: results/trail215.png (deflated 18%)\n",
            "  adding: results/trail361.png (deflated 20%)\n",
            "  adding: results/trail410.png (deflated 18%)\n",
            "  adding: results/trail462.png (deflated 18%)\n",
            "  adding: results/trail257.png (deflated 18%)\n",
            "  adding: results/trail286.png (deflated 18%)\n",
            "  adding: results/trail291.png (deflated 17%)\n",
            "  adding: results/trail91.png (deflated 18%)\n",
            "  adding: results/trail421.png (deflated 20%)\n",
            "  adding: results/trail70.png (deflated 18%)\n",
            "  adding: results/trail228.png (deflated 18%)\n",
            "  adding: results/trail73.png (deflated 20%)\n",
            "  adding: results/trail350.png (deflated 18%)\n",
            "  adding: results/trail526.png (deflated 18%)\n",
            "  adding: results/trail266.png (deflated 18%)\n",
            "  adding: results/trail90.png (deflated 18%)\n",
            "  adding: results/trail494.png (deflated 18%)\n",
            "  adding: results/trail137.png (deflated 18%)\n",
            "  adding: results/trail205.png (deflated 20%)\n",
            "  adding: results/trail250.png (deflated 18%)\n",
            "  adding: results/trail208.png (deflated 18%)\n",
            "  adding: results/trail487.png (deflated 18%)\n",
            "  adding: results/trail335.png (deflated 18%)\n",
            "  adding: results/trail263.png (deflated 18%)\n",
            "  adding: results/trail153.png (deflated 18%)\n",
            "  adding: results/trail106.png (deflated 18%)\n",
            "  adding: results/trail453.png (deflated 18%)\n",
            "  adding: results/trail289.png (deflated 20%)\n",
            "  adding: results/trail540.png (deflated 18%)\n",
            "  adding: results/trail127.png (deflated 18%)\n",
            "  adding: results/trail259.png (deflated 18%)\n",
            "  adding: results/trail167.png (deflated 18%)\n",
            "  adding: results/trail393.png (deflated 18%)\n",
            "  adding: results/trail431.png (deflated 18%)\n",
            "  adding: results/trail566.png (deflated 18%)\n",
            "  adding: results/trail468.png (deflated 18%)\n",
            "  adding: results/trail299.png (deflated 18%)\n",
            "  adding: results/trail562.png (deflated 18%)\n",
            "  adding: results/trail53.png (deflated 18%)\n",
            "  adding: results/trail83.png (deflated 17%)\n",
            "  adding: results/trail317.png (deflated 17%)\n",
            "  adding: results/trail112.png (deflated 18%)\n",
            "  adding: results/trail105.png (deflated 18%)\n",
            "  adding: results/trail312.png (deflated 17%)\n",
            "  adding: results/trail227.png (deflated 17%)\n",
            "  adding: results/trail72.png (deflated 18%)\n",
            "  adding: results/trail340.png (deflated 18%)\n",
            "  adding: results/trail499.png (deflated 18%)\n",
            "  adding: results/trail551.png (deflated 18%)\n",
            "  adding: results/trail141.png (deflated 17%)\n",
            "  adding: results/trail242.png (deflated 18%)\n",
            "  adding: results/trail213.png (deflated 19%)\n",
            "  adding: results/trail424.png (deflated 18%)\n",
            "  adding: results/trail535.png (deflated 18%)\n",
            "  adding: results/trail76.png (deflated 18%)\n",
            "  adding: results/trail287.png (deflated 18%)\n",
            "  adding: results/trail465.png (deflated 18%)\n",
            "  adding: results/trail209.png (deflated 19%)\n",
            "  adding: results/trail408.png (deflated 18%)\n",
            "  adding: results/trail536.png (deflated 18%)\n",
            "  adding: results/trail473.png (deflated 18%)\n",
            "  adding: results/trail231.png (deflated 18%)\n",
            "  adding: results/trail50.png (deflated 18%)\n",
            "  adding: results/trail225.png (deflated 18%)\n",
            "  adding: results/trail346.png (deflated 18%)\n",
            "  adding: results/trail471.png (deflated 18%)\n",
            "  adding: results/trail308.png (deflated 17%)\n",
            "  adding: results/trail388.png (deflated 18%)\n",
            "  adding: results/trail273.png (deflated 18%)\n",
            "  adding: results/trail192.png (deflated 18%)\n",
            "  adding: results/trail84.png (deflated 17%)\n",
            "  adding: results/trail531.png (deflated 18%)\n",
            "  adding: results/trail55.png (deflated 18%)\n",
            "  adding: results/trail480.png (deflated 18%)\n",
            "  adding: results/trail54.png (deflated 18%)\n",
            "  adding: results/trail372.png (deflated 18%)\n",
            "  adding: results/trail253.png (deflated 20%)\n",
            "  adding: results/trail154.png (deflated 18%)\n",
            "  adding: results/trail125.png (deflated 18%)\n",
            "  adding: results/trail384.png (deflated 18%)\n",
            "  adding: results/trail440.png (deflated 18%)\n",
            "  adding: results/trail185.png (deflated 18%)\n",
            "  adding: results/trail294.png (deflated 18%)\n",
            "  adding: results/trail542.png (deflated 18%)\n",
            "  adding: results/trail282.png (deflated 18%)\n",
            "  adding: results/trail129.png (deflated 18%)\n",
            "  adding: results/trail172.png (deflated 18%)\n",
            "  adding: results/trail86.png (deflated 18%)\n",
            "  adding: results/trail316.png (deflated 18%)\n",
            "  adding: results/trail420.png (deflated 18%)\n",
            "  adding: results/trail370.png (deflated 18%)\n",
            "  adding: results/trail236.png (deflated 18%)\n",
            "  adding: results/trail118.png (deflated 17%)\n",
            "  adding: results/trail200.png (deflated 18%)\n",
            "  adding: results/trail489.png (deflated 18%)\n",
            "  adding: results/trail497.png (deflated 18%)\n",
            "  adding: results/trail474.png (deflated 18%)\n",
            "  adding: results/trail246.png (deflated 18%)\n",
            "  adding: results/trail169.png (deflated 20%)\n",
            "  adding: results/trail506.png (deflated 19%)\n",
            "  adding: results/trail196.png (deflated 18%)\n",
            "  adding: results/trail319.png (deflated 18%)\n",
            "  adding: results/trail267.png (deflated 18%)\n",
            "  adding: results/trail113.png (deflated 18%)\n",
            "  adding: results/trail168.png (deflated 18%)\n",
            "  adding: results/trail297.png (deflated 18%)\n",
            "  adding: results/trail149.png (deflated 18%)\n",
            "  adding: results/trail295.png (deflated 18%)\n",
            "  adding: results/trail103.png (deflated 17%)\n",
            "  adding: results/trail521.png (deflated 19%)\n",
            "  adding: results/trail59.png (deflated 18%)\n",
            "  adding: results/trail223.png (deflated 18%)\n",
            "  adding: results/trail357.png (deflated 18%)\n",
            "  adding: results/trail131.png (deflated 18%)\n",
            "  adding: results/trail564.png (deflated 18%)\n",
            "  adding: results/trail197.png (deflated 18%)\n",
            "  adding: results/trail482.png (deflated 18%)\n",
            "  adding: results/trail111.png (deflated 18%)\n",
            "  adding: results/trail502.png (deflated 18%)\n",
            "  adding: results/trail122.png (deflated 19%)\n",
            "  adding: results/trail362.png (deflated 18%)\n",
            "  adding: results/trail358.png (deflated 17%)\n",
            "  adding: results/trail304.png (deflated 18%)\n",
            "  adding: results/trail351.png (deflated 18%)\n",
            "  adding: results/trail87.png (deflated 18%)\n",
            "  adding: results/trail513.png (deflated 18%)\n",
            "  adding: results/trail100.png (deflated 18%)\n",
            "  adding: results/trail556.png (deflated 19%)\n",
            "  adding: results/trail62.png (deflated 18%)\n",
            "  adding: results/trail165.png (deflated 18%)\n",
            "  adding: results/trail176.png (deflated 19%)\n",
            "  adding: results/trail78.png (deflated 17%)\n",
            "  adding: results/trail541.png (deflated 21%)\n",
            "  adding: results/trail45.png (deflated 17%)\n",
            "  adding: results/trail124.png (deflated 18%)\n",
            "  adding: results/trail188.png (deflated 19%)\n",
            "  adding: results/trail48.png (deflated 17%)\n",
            "  adding: results/trail371.png (deflated 18%)\n",
            "  adding: results/trail171.png (deflated 18%)\n",
            "  adding: results/trail199.png (deflated 17%)\n",
            "  adding: results/trail201.png (deflated 17%)\n",
            "  adding: results/trail123.png (deflated 18%)\n",
            "  adding: results/trail472.png (deflated 18%)\n",
            "  adding: results/trail514.png (deflated 18%)\n",
            "  adding: results/trail516.png (deflated 18%)\n",
            "  adding: results/trail164.png (deflated 18%)\n",
            "  adding: results/trail283.png (deflated 18%)\n",
            "  adding: results/trail417.png (deflated 18%)\n",
            "  adding: results/trail439.png (deflated 18%)\n",
            "  adding: results/trail403.png (deflated 18%)\n",
            "  adding: results/trail323.png (deflated 17%)\n",
            "  adding: results/trail550.png (deflated 18%)\n",
            "  adding: results/trail254.png (deflated 18%)\n",
            "  adding: results/trail461.png (deflated 18%)\n",
            "  adding: results/trail451.png (deflated 18%)\n",
            "  adding: results/trail115.png (deflated 18%)\n",
            "  adding: results/trail96.png (deflated 17%)\n",
            "  adding: results/trail233.png (deflated 18%)\n",
            "  adding: results/trail466.png (deflated 18%)\n",
            "  adding: results/trail349.png (deflated 20%)\n",
            "  adding: results/trail229.png (deflated 20%)\n",
            "  adding: results/trail330.png (deflated 18%)\n",
            "  adding: results/trail237.png (deflated 18%)\n",
            "  adding: results/trail534.png (deflated 18%)\n",
            "  adding: results/trail507.png (deflated 18%)\n",
            "  adding: results/trail247.png (deflated 18%)\n",
            "  adding: results/trail256.png (deflated 18%)\n",
            "  adding: results/trail292.png (deflated 18%)\n",
            "  adding: results/trail415.png (deflated 18%)\n",
            "  adding: results/trail464.png (deflated 18%)\n",
            "  adding: results/trail334.png (deflated 18%)\n",
            "  adding: results/trail437.png (deflated 18%)\n",
            "  adding: results/trail175.png (deflated 18%)\n",
            "  adding: results/trail217.png (deflated 20%)\n",
            "  adding: results/trail454.png (deflated 17%)\n",
            "  adding: results/trail193.png (deflated 20%)\n",
            "  adding: results/trail306.png (deflated 18%)\n",
            "  adding: results/trail391.png (deflated 18%)\n",
            "  adding: results/trail492.png (deflated 18%)\n",
            "  adding: results/trail309.png (deflated 18%)\n",
            "  adding: results/trail374.png (deflated 18%)\n",
            "  adding: results/trail207.png (deflated 18%)\n",
            "  adding: results/trail301.png (deflated 20%)\n",
            "  adding: results/trail426.png (deflated 18%)\n",
            "  adding: results/trail117.png (deflated 17%)\n",
            "  adding: results/trail75.png (deflated 17%)\n",
            "  adding: results/trail152.png (deflated 18%)\n",
            "  adding: results/trail503.png (deflated 18%)\n",
            "  adding: results/trail539.png (deflated 18%)\n",
            "  adding: results/trail546.png (deflated 18%)\n",
            "  adding: results/trail419.png (deflated 18%)\n",
            "  adding: results/trail85.png (deflated 20%)\n",
            "  adding: results/trail443.png (deflated 18%)\n",
            "  adding: results/trail343.png (deflated 18%)\n",
            "  adding: results/trail519.png (deflated 18%)\n",
            "  adding: results/trail435.png (deflated 18%)\n",
            "  adding: results/trail272.png (deflated 18%)\n",
            "  adding: results/trail77.png (deflated 17%)\n",
            "  adding: results/trail99.png (deflated 18%)\n",
            "  adding: results/trail303.png (deflated 18%)\n",
            "  adding: results/trail406.png (deflated 17%)\n",
            "  adding: results/trail134.png (deflated 18%)\n",
            "  adding: results/trail136.png (deflated 18%)\n",
            "  adding: results/trail58.png (deflated 17%)\n",
            "  adding: results/trail463.png (deflated 18%)\n",
            "  adding: results/trail248.png (deflated 18%)\n",
            "  adding: results/trail436.png (deflated 18%)\n",
            "  adding: results/trail493.png (deflated 21%)\n",
            "  adding: results/trail555.png (deflated 18%)\n",
            "  adding: results/trail202.png (deflated 18%)\n",
            "  adding: results/trail71.png (deflated 18%)\n",
            "  adding: results/trail395.png (deflated 18%)\n",
            "  adding: results/trail61.png (deflated 19%)\n",
            "  adding: results/trail478.png (deflated 18%)\n",
            "  adding: results/trail554.png (deflated 19%)\n",
            "  adding: results/trail102.png (deflated 18%)\n",
            "  adding: results/trail198.png (deflated 18%)\n",
            "  adding: results/trail560.png (deflated 18%)\n",
            "  adding: results/trail206.png (deflated 19%)\n",
            "  adding: results/trail459.png (deflated 18%)\n",
            "  adding: results/trail180.png (deflated 18%)\n",
            "  adding: results/trail483.png (deflated 18%)\n",
            "  adding: results/trail383.png (deflated 18%)\n",
            "  adding: results/trail486.png (deflated 18%)\n",
            "  adding: results/trail238.png (deflated 18%)\n",
            "  adding: results/trail281.png (deflated 18%)\n",
            "  adding: results/trail204.png (deflated 18%)\n",
            "  adding: results/trail243.png (deflated 18%)\n",
            "  adding: results/trail470.png (deflated 18%)\n",
            "  adding: results/trail360.png (deflated 17%)\n",
            "  adding: results/trail67.png (deflated 17%)\n",
            "  adding: results/trail512.png (deflated 18%)\n",
            "  adding: results/trail203.png (deflated 18%)\n",
            "  adding: results/trail194.png (deflated 18%)\n",
            "  adding: results/trail63.png (deflated 18%)\n",
            "  adding: results/trail47.png (deflated 17%)\n",
            "  adding: results/trail352.png (deflated 18%)\n",
            "  adding: results/trail460.png (deflated 18%)\n",
            "  adding: results/trail249.png (deflated 18%)\n",
            "  adding: results/trail285.png (deflated 18%)\n",
            "  adding: results/trail240.png (deflated 18%)\n",
            "  adding: results/trail332.png (deflated 18%)\n",
            "  adding: results/trail380.png (deflated 18%)\n",
            "  adding: results/trail101.png (deflated 18%)\n",
            "  adding: results/trail66.png (deflated 18%)\n",
            "  adding: results/trail274.png (deflated 18%)\n",
            "  adding: results/trail177.png (deflated 18%)\n",
            "  adding: results/trail484.png (deflated 18%)\n",
            "  adding: results/trail276.png (deflated 19%)\n",
            "  adding: results/trail532.png (deflated 18%)\n",
            "  adding: results/trail345.png (deflated 18%)\n",
            "  adding: results/trail226.png (deflated 18%)\n",
            "  adding: results/trail422.png (deflated 18%)\n",
            "  adding: results/trail224.png (deflated 18%)\n",
            "270M\tresults.zip\n"
          ]
        },
        {
          "output_type": "execute_result",
          "data": {
            "text/plain": [
              ""
            ]
          },
          "metadata": {},
          "execution_count": 58
        }
      ]
    },
    {
      "cell_type": "code",
      "source": [
        "!"
      ],
      "metadata": {
        "colab": {
          "base_uri": "https://localhost:8080/"
        },
        "id": "KZL4GE2NWFLw",
        "outputId": "44419d5f-9cb0-4135-c321-179362a8200c"
      },
      "execution_count": 49,
      "outputs": [
        {
          "output_type": "stream",
          "name": "stdout",
          "text": [
            "du: cannot access 'results.zip': No such file or directory\n"
          ]
        }
      ]
    },
    {
      "cell_type": "markdown",
      "metadata": {
        "id": "HSMzMJXC96IP"
      },
      "source": [
        "You can add --debug 2 to visualize the heatmap and offset predictions."
      ]
    },
    {
      "cell_type": "code",
      "metadata": {
        "id": "dAwdEdFT94W5"
      },
      "source": [
        "! python demo.py tracking --load_model ../models/mot17_half.pth --num_class 1 --debug 2 --demo video.mp4"
      ],
      "execution_count": null,
      "outputs": []
    },
    {
      "cell_type": "markdown",
      "metadata": {
        "id": "TF8AOxtQ9lTy"
      },
      "source": [
        "For monocular 3D tracking, run"
      ]
    },
    {
      "cell_type": "code",
      "metadata": {
        "id": "Vnmvi9yL9nvo",
        "colab": {
          "base_uri": "https://localhost:8080/"
        },
        "outputId": "0d390083-720f-4d4f-ef93-6adb1b956ba6"
      },
      "source": [
        "! python demo.py tracking,ddd --demo ../videos/nuscenes_mini.mp4.mp4 --load_model ../models/coco_tracking.pth --save_video --test_focal_length 633"
      ],
      "execution_count": 26,
      "outputs": [
        {
          "output_type": "stream",
          "name": "stdout",
          "text": [
            "/usr/local/lib/python3.7/dist-packages/sklearn/utils/linear_assignment_.py:22: FutureWarning: The linear_assignment_ module is deprecated in 0.21 and will be removed from 0.23. Use scipy.optimize.linear_sum_assignment instead.\n",
            "  FutureWarning)\n",
            "Running tracking\n",
            "Using tracking threshold for out threshold! 0.3\n",
            "Fix size testing.\n",
            "training chunk_sizes: [32]\n",
            "input h w: 448 800\n",
            "heads {'hm': 10, 'reg': 2, 'wh': 2, 'tracking': 2, 'dep': 1, 'rot': 8, 'dim': 3, 'amodel_offset': 2}\n",
            "weights {'hm': 1, 'reg': 1, 'wh': 0.1, 'tracking': 1, 'dep': 1, 'rot': 1, 'dim': 1, 'amodel_offset': 1}\n",
            "head conv {'hm': [256], 'reg': [256], 'wh': [256], 'tracking': [256], 'dep': [256], 'rot': [256], 'dim': [256], 'amodel_offset': [256]}\n",
            "Creating model...\n",
            "Using node type: (<class 'model.networks.dla.DeformConv'>, <class 'model.networks.dla.DeformConv'>)\n",
            "Warning: No ImageNet pretrain!!\n",
            "loaded ../models/coco_tracking.pth, epoch 70\n",
            "Skip loading parameter hm.2.weight, required shapetorch.Size([10, 256, 1, 1]), loaded shapetorch.Size([80, 256, 1, 1]).\n",
            "Skip loading parameter hm.2.bias, required shapetorch.Size([10]), loaded shapetorch.Size([80]).\n",
            "Drop parameter base.pre_hm_layer.0.weight.\n",
            "Drop parameter base.pre_hm_layer.1.weight.\n",
            "Drop parameter base.pre_hm_layer.1.bias.\n",
            "Drop parameter base.pre_hm_layer.1.running_mean.\n",
            "Drop parameter base.pre_hm_layer.1.running_var.\n",
            "Drop parameter base.pre_hm_layer.1.num_batches_tracked.\n",
            "No param dep.0.weight.\n",
            "No param dep.0.bias.\n",
            "No param dep.2.weight.\n",
            "No param dep.2.bias.\n",
            "No param rot.0.weight.\n",
            "No param rot.0.bias.\n",
            "No param rot.2.weight.\n",
            "No param rot.2.bias.\n",
            "No param dim.0.weight.\n",
            "No param dim.0.bias.\n",
            "No param dim.2.weight.\n",
            "No param dim.2.bias.\n",
            "No param amodel_offset.0.weight.\n",
            "No param amodel_offset.0.bias.\n",
            "No param amodel_offset.2.weight.\n",
            "No param amodel_offset.2.bias.\n",
            "out_name nuscenes_mini.mp4.mp4\n",
            "None\n",
            "exiting\n"
          ]
        }
      ]
    },
    {
      "cell_type": "markdown",
      "metadata": {
        "id": "l6r6ZlYs9ud-"
      },
      "source": [
        "Similarly, for pose tracking, run:"
      ]
    },
    {
      "cell_type": "code",
      "metadata": {
        "id": "LyzdY5ju9u7k"
      },
      "source": [
        "! python demo.py tracking,multi_pose --load_model ../models/coco_pose.pth --demo video.mp4"
      ],
      "execution_count": null,
      "outputs": []
    },
    {
      "cell_type": "markdown",
      "metadata": {
        "id": "sjqq06mMem3Q"
      },
      "source": [
        "## Training on custom dataset\n",
        "If you want to train CenterTrack on your own dataset, you can use `--dataset custom` and manually specify the annotation file, image path, input resolutions, and number of categories. You still need to create the annotation files in COCO format (referring to the many `convert_X_to_coco.py` examples in tools). For example, you can use the following command to train on our [mot17 experiment](https://github.com/xingyizhou/CenterTrack/blob/master/experiments/mot17_half_sc.sh) without using the pre-defined mot dataset file:"
      ]
    },
    {
      "cell_type": "code",
      "metadata": {
        "id": "89uylqque2lG"
      },
      "source": [
        "! python main.py tracking --exp_id mot17_half_sc --dataset custom --custom_dataset_ann_path ../data/mot17/annotations/train_half.json --custom_dataset_img_path ../data/mot17/train/ --input_h 544 --input_w 960 --num_classes 1 --pre_hm --ltrb_amodal --same_aug --hm_disturb 0.05 --lost_disturb 0.4 --fp_disturb 0.1 --gpus 0"
      ],
      "execution_count": null,
      "outputs": []
    },
    {
      "cell_type": "markdown",
      "metadata": {
        "id": "u84xB-4YciO-"
      },
      "source": [
        "## Benchmark Evaluation and Training\n",
        "After installation, follow the instructions in [DATA.md](https://github.com/xingyizhou/CenterTrack/blob/master/readme/DATA.md) to setup the datasets. Then check [GETTING_STARTED.md](https://github.com/xingyizhou/CenterTrack/blob/master/readme/GETTING_STARTED.md) to reproduce the results in the paper. We provide scripts for all the experiments in the [experiments folder](https://github.com/xingyizhou/CenterTrack/blob/master/experiments)."
      ]
    },
    {
      "cell_type": "markdown",
      "metadata": {
        "id": "uudcC2xMdO4t"
      },
      "source": [
        "### **Benchmark evaluation**\n",
        "First, download the models you want to evaluate from our model zoo and put them in CenterTrack_ROOT/models/.\n",
        "\n",
        "**MOT17**\n",
        "\n",
        "To test the tracking performance on MOT17 with our pretrained model, run"
      ]
    },
    {
      "cell_type": "code",
      "metadata": {
        "id": "I0SiynR5dRaM"
      },
      "source": [
        "! python test.py tracking --exp_id mot17_half --dataset mot --dataset_version 17halfval --pre_hm --ltrb_amodal --track_thresh 0.4 --pre_thresh 0.5 --load_model ../models/mot17_half.pth"
      ],
      "execution_count": null,
      "outputs": []
    },
    {
      "cell_type": "markdown",
      "metadata": {
        "id": "Drou-llkdgiH"
      },
      "source": [
        "This will give a MOTA of `66.1` if set up correctly. `--pre_hm` is to enable the input heatmap. `--ltrb_amodal` is to use the left, top, right, bottom bounding box representation to enable detecting out-of-image bounding box (We observed this is important for MOT datasets). And `--track_thresh` and `--pre_thresh` are the score threshold for predicting a bounding box ($\\theta$ in the paper) and feeding the heatmap to the next frame ($\\tau$ in the paper), respectively.\n",
        "\n",
        "To test with public detection, run"
      ]
    },
    {
      "cell_type": "code",
      "metadata": {
        "id": "dFOAtnMzdhXT"
      },
      "source": [
        "! python test.py tracking --exp_id mot17_half_public --dataset mot --dataset_version 17halfval --pre_hm --ltrb_amodal --track_thresh 0.4 --pre_thresh 0.5 --load_model ../models/mot17_half.pth --public_det --load_results ../data/mot17/results/val_half_det.json"
      ],
      "execution_count": null,
      "outputs": []
    },
    {
      "cell_type": "markdown",
      "metadata": {
        "id": "AzzCMMn3d4eo"
      },
      "source": [
        "The expected MOTA is `63.1`.\n",
        "\n",
        "To test on the test set, run"
      ]
    },
    {
      "cell_type": "markdown",
      "metadata": {
        "id": "Q0J273JgeNVw"
      },
      "source": [
        "### Training\n",
        "We have packed all the training scripts in the [experiments folder](https://github.com/xingyizhou/CenterTrack/blob/master/experiments). The experiment names correspond to the model name in the [model zoo](https://github.com/xingyizhou/CenterTrack/blob/master/experiments). The number of GPUs for each experiment can be found in the scripts and the model zoo. If the training is terminated before finishing, you can use the same command with `--resume` to resume training. It will found the latest model with the same `exp_id`. Some experiments rely on pretraining on another model. In this case, download the pretrained model from our model zoo or train that model first."
      ]
    }
  ]
}